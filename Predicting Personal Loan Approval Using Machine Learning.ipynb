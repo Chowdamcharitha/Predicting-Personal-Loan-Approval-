{
 "cells": [
  {
   "cell_type": "markdown",
   "id": "02ec9400",
   "metadata": {},
   "source": [
    "#### Importing Libraries"
   ]
  },
  {
   "cell_type": "code",
   "execution_count": 1,
   "id": "618dc8b7",
   "metadata": {},
   "outputs": [],
   "source": [
    "import pandas as pd\n",
    "import numpy as np\n",
    "import matplotlib.pyplot as plt\n",
    "import seaborn as sns\n",
    "import imblearn\n",
    "from sklearn.model_selection import train_test_split\n",
    "from sklearn.preprocessing import StandardScaler\n",
    "from sklearn.linear_model import LogisticRegression\n",
    "from sklearn import svm\n",
    "from sklearn.tree import DecisionTreeClassifier\n",
    "from sklearn.neighbors import KNeighborsClassifier\n",
    "from sklearn.metrics import accuracy_score, classification_report, confusion_matrix, f1_score\n",
    "from sklearn.ensemble import RandomForestClassifier,GradientBoostingClassifier\n",
    "import warnings\n",
    "warnings.filterwarnings('ignore')"
   ]
  },
  {
   "cell_type": "markdown",
   "id": "6959bf69",
   "metadata": {},
   "source": [
    "#### Importing & Loading Dataset"
   ]
  },
  {
   "cell_type": "code",
   "execution_count": 2,
   "id": "fa56e713",
   "metadata": {},
   "outputs": [
    {
     "data": {
      "text/html": [
       "<div>\n",
       "<style scoped>\n",
       "    .dataframe tbody tr th:only-of-type {\n",
       "        vertical-align: middle;\n",
       "    }\n",
       "\n",
       "    .dataframe tbody tr th {\n",
       "        vertical-align: top;\n",
       "    }\n",
       "\n",
       "    .dataframe thead th {\n",
       "        text-align: right;\n",
       "    }\n",
       "</style>\n",
       "<table border=\"1\" class=\"dataframe\">\n",
       "  <thead>\n",
       "    <tr style=\"text-align: right;\">\n",
       "      <th></th>\n",
       "      <th>Loan_ID</th>\n",
       "      <th>Gender</th>\n",
       "      <th>Married</th>\n",
       "      <th>Dependents</th>\n",
       "      <th>Education</th>\n",
       "      <th>Self_Employed</th>\n",
       "      <th>ApplicantIncome</th>\n",
       "      <th>CoapplicantIncome</th>\n",
       "      <th>LoanAmount</th>\n",
       "      <th>Loan_Amount_Term</th>\n",
       "      <th>Credit_History</th>\n",
       "      <th>Property_Area</th>\n",
       "      <th>Loan_Status</th>\n",
       "    </tr>\n",
       "  </thead>\n",
       "  <tbody>\n",
       "    <tr>\n",
       "      <th>0</th>\n",
       "      <td>LP001002</td>\n",
       "      <td>Male</td>\n",
       "      <td>No</td>\n",
       "      <td>0</td>\n",
       "      <td>Graduate</td>\n",
       "      <td>No</td>\n",
       "      <td>5849</td>\n",
       "      <td>0.0</td>\n",
       "      <td>NaN</td>\n",
       "      <td>360.0</td>\n",
       "      <td>1.0</td>\n",
       "      <td>Urban</td>\n",
       "      <td>Y</td>\n",
       "    </tr>\n",
       "    <tr>\n",
       "      <th>1</th>\n",
       "      <td>LP001003</td>\n",
       "      <td>Male</td>\n",
       "      <td>Yes</td>\n",
       "      <td>1</td>\n",
       "      <td>Graduate</td>\n",
       "      <td>No</td>\n",
       "      <td>4583</td>\n",
       "      <td>1508.0</td>\n",
       "      <td>128.0</td>\n",
       "      <td>360.0</td>\n",
       "      <td>1.0</td>\n",
       "      <td>Rural</td>\n",
       "      <td>N</td>\n",
       "    </tr>\n",
       "    <tr>\n",
       "      <th>2</th>\n",
       "      <td>LP001005</td>\n",
       "      <td>Male</td>\n",
       "      <td>Yes</td>\n",
       "      <td>0</td>\n",
       "      <td>Graduate</td>\n",
       "      <td>Yes</td>\n",
       "      <td>3000</td>\n",
       "      <td>0.0</td>\n",
       "      <td>66.0</td>\n",
       "      <td>360.0</td>\n",
       "      <td>1.0</td>\n",
       "      <td>Urban</td>\n",
       "      <td>Y</td>\n",
       "    </tr>\n",
       "    <tr>\n",
       "      <th>3</th>\n",
       "      <td>LP001006</td>\n",
       "      <td>Male</td>\n",
       "      <td>Yes</td>\n",
       "      <td>0</td>\n",
       "      <td>Not Graduate</td>\n",
       "      <td>No</td>\n",
       "      <td>2583</td>\n",
       "      <td>2358.0</td>\n",
       "      <td>120.0</td>\n",
       "      <td>360.0</td>\n",
       "      <td>1.0</td>\n",
       "      <td>Urban</td>\n",
       "      <td>Y</td>\n",
       "    </tr>\n",
       "    <tr>\n",
       "      <th>4</th>\n",
       "      <td>LP001008</td>\n",
       "      <td>Male</td>\n",
       "      <td>No</td>\n",
       "      <td>0</td>\n",
       "      <td>Graduate</td>\n",
       "      <td>No</td>\n",
       "      <td>6000</td>\n",
       "      <td>0.0</td>\n",
       "      <td>141.0</td>\n",
       "      <td>360.0</td>\n",
       "      <td>1.0</td>\n",
       "      <td>Urban</td>\n",
       "      <td>Y</td>\n",
       "    </tr>\n",
       "    <tr>\n",
       "      <th>...</th>\n",
       "      <td>...</td>\n",
       "      <td>...</td>\n",
       "      <td>...</td>\n",
       "      <td>...</td>\n",
       "      <td>...</td>\n",
       "      <td>...</td>\n",
       "      <td>...</td>\n",
       "      <td>...</td>\n",
       "      <td>...</td>\n",
       "      <td>...</td>\n",
       "      <td>...</td>\n",
       "      <td>...</td>\n",
       "      <td>...</td>\n",
       "    </tr>\n",
       "    <tr>\n",
       "      <th>609</th>\n",
       "      <td>LP002978</td>\n",
       "      <td>Female</td>\n",
       "      <td>No</td>\n",
       "      <td>0</td>\n",
       "      <td>Graduate</td>\n",
       "      <td>No</td>\n",
       "      <td>2900</td>\n",
       "      <td>0.0</td>\n",
       "      <td>71.0</td>\n",
       "      <td>360.0</td>\n",
       "      <td>1.0</td>\n",
       "      <td>Rural</td>\n",
       "      <td>Y</td>\n",
       "    </tr>\n",
       "    <tr>\n",
       "      <th>610</th>\n",
       "      <td>LP002979</td>\n",
       "      <td>Male</td>\n",
       "      <td>Yes</td>\n",
       "      <td>3+</td>\n",
       "      <td>Graduate</td>\n",
       "      <td>No</td>\n",
       "      <td>4106</td>\n",
       "      <td>0.0</td>\n",
       "      <td>40.0</td>\n",
       "      <td>180.0</td>\n",
       "      <td>1.0</td>\n",
       "      <td>Rural</td>\n",
       "      <td>Y</td>\n",
       "    </tr>\n",
       "    <tr>\n",
       "      <th>611</th>\n",
       "      <td>LP002983</td>\n",
       "      <td>Male</td>\n",
       "      <td>Yes</td>\n",
       "      <td>1</td>\n",
       "      <td>Graduate</td>\n",
       "      <td>No</td>\n",
       "      <td>8072</td>\n",
       "      <td>240.0</td>\n",
       "      <td>253.0</td>\n",
       "      <td>360.0</td>\n",
       "      <td>1.0</td>\n",
       "      <td>Urban</td>\n",
       "      <td>Y</td>\n",
       "    </tr>\n",
       "    <tr>\n",
       "      <th>612</th>\n",
       "      <td>LP002984</td>\n",
       "      <td>Male</td>\n",
       "      <td>Yes</td>\n",
       "      <td>2</td>\n",
       "      <td>Graduate</td>\n",
       "      <td>No</td>\n",
       "      <td>7583</td>\n",
       "      <td>0.0</td>\n",
       "      <td>187.0</td>\n",
       "      <td>360.0</td>\n",
       "      <td>1.0</td>\n",
       "      <td>Urban</td>\n",
       "      <td>Y</td>\n",
       "    </tr>\n",
       "    <tr>\n",
       "      <th>613</th>\n",
       "      <td>LP002990</td>\n",
       "      <td>Female</td>\n",
       "      <td>No</td>\n",
       "      <td>0</td>\n",
       "      <td>Graduate</td>\n",
       "      <td>Yes</td>\n",
       "      <td>4583</td>\n",
       "      <td>0.0</td>\n",
       "      <td>133.0</td>\n",
       "      <td>360.0</td>\n",
       "      <td>0.0</td>\n",
       "      <td>Semiurban</td>\n",
       "      <td>N</td>\n",
       "    </tr>\n",
       "  </tbody>\n",
       "</table>\n",
       "<p>614 rows × 13 columns</p>\n",
       "</div>"
      ],
      "text/plain": [
       "      Loan_ID  Gender Married Dependents     Education Self_Employed  \\\n",
       "0    LP001002    Male      No          0      Graduate            No   \n",
       "1    LP001003    Male     Yes          1      Graduate            No   \n",
       "2    LP001005    Male     Yes          0      Graduate           Yes   \n",
       "3    LP001006    Male     Yes          0  Not Graduate            No   \n",
       "4    LP001008    Male      No          0      Graduate            No   \n",
       "..        ...     ...     ...        ...           ...           ...   \n",
       "609  LP002978  Female      No          0      Graduate            No   \n",
       "610  LP002979    Male     Yes         3+      Graduate            No   \n",
       "611  LP002983    Male     Yes          1      Graduate            No   \n",
       "612  LP002984    Male     Yes          2      Graduate            No   \n",
       "613  LP002990  Female      No          0      Graduate           Yes   \n",
       "\n",
       "     ApplicantIncome  CoapplicantIncome  LoanAmount  Loan_Amount_Term  \\\n",
       "0               5849                0.0         NaN             360.0   \n",
       "1               4583             1508.0       128.0             360.0   \n",
       "2               3000                0.0        66.0             360.0   \n",
       "3               2583             2358.0       120.0             360.0   \n",
       "4               6000                0.0       141.0             360.0   \n",
       "..               ...                ...         ...               ...   \n",
       "609             2900                0.0        71.0             360.0   \n",
       "610             4106                0.0        40.0             180.0   \n",
       "611             8072              240.0       253.0             360.0   \n",
       "612             7583                0.0       187.0             360.0   \n",
       "613             4583                0.0       133.0             360.0   \n",
       "\n",
       "     Credit_History Property_Area Loan_Status  \n",
       "0               1.0         Urban           Y  \n",
       "1               1.0         Rural           N  \n",
       "2               1.0         Urban           Y  \n",
       "3               1.0         Urban           Y  \n",
       "4               1.0         Urban           Y  \n",
       "..              ...           ...         ...  \n",
       "609             1.0         Rural           Y  \n",
       "610             1.0         Rural           Y  \n",
       "611             1.0         Urban           Y  \n",
       "612             1.0         Urban           Y  \n",
       "613             0.0     Semiurban           N  \n",
       "\n",
       "[614 rows x 13 columns]"
      ]
     },
     "execution_count": 2,
     "metadata": {},
     "output_type": "execute_result"
    }
   ],
   "source": [
    "df = pd.read_csv('loan-train.csv')\n",
    "df"
   ]
  },
  {
   "cell_type": "code",
   "execution_count": 3,
   "id": "b7a2815f",
   "metadata": {},
   "outputs": [
    {
     "data": {
      "text/html": [
       "<div>\n",
       "<style scoped>\n",
       "    .dataframe tbody tr th:only-of-type {\n",
       "        vertical-align: middle;\n",
       "    }\n",
       "\n",
       "    .dataframe tbody tr th {\n",
       "        vertical-align: top;\n",
       "    }\n",
       "\n",
       "    .dataframe thead th {\n",
       "        text-align: right;\n",
       "    }\n",
       "</style>\n",
       "<table border=\"1\" class=\"dataframe\">\n",
       "  <thead>\n",
       "    <tr style=\"text-align: right;\">\n",
       "      <th></th>\n",
       "      <th>Loan_ID</th>\n",
       "      <th>Gender</th>\n",
       "      <th>Married</th>\n",
       "      <th>Dependents</th>\n",
       "      <th>Education</th>\n",
       "      <th>Self_Employed</th>\n",
       "      <th>ApplicantIncome</th>\n",
       "      <th>CoapplicantIncome</th>\n",
       "      <th>LoanAmount</th>\n",
       "      <th>Loan_Amount_Term</th>\n",
       "      <th>Credit_History</th>\n",
       "      <th>Property_Area</th>\n",
       "      <th>Loan_Status</th>\n",
       "    </tr>\n",
       "  </thead>\n",
       "  <tbody>\n",
       "    <tr>\n",
       "      <th>0</th>\n",
       "      <td>LP001002</td>\n",
       "      <td>Male</td>\n",
       "      <td>No</td>\n",
       "      <td>0</td>\n",
       "      <td>Graduate</td>\n",
       "      <td>No</td>\n",
       "      <td>5849</td>\n",
       "      <td>0.0</td>\n",
       "      <td>NaN</td>\n",
       "      <td>360.0</td>\n",
       "      <td>1.0</td>\n",
       "      <td>Urban</td>\n",
       "      <td>Y</td>\n",
       "    </tr>\n",
       "    <tr>\n",
       "      <th>1</th>\n",
       "      <td>LP001003</td>\n",
       "      <td>Male</td>\n",
       "      <td>Yes</td>\n",
       "      <td>1</td>\n",
       "      <td>Graduate</td>\n",
       "      <td>No</td>\n",
       "      <td>4583</td>\n",
       "      <td>1508.0</td>\n",
       "      <td>128.0</td>\n",
       "      <td>360.0</td>\n",
       "      <td>1.0</td>\n",
       "      <td>Rural</td>\n",
       "      <td>N</td>\n",
       "    </tr>\n",
       "    <tr>\n",
       "      <th>2</th>\n",
       "      <td>LP001005</td>\n",
       "      <td>Male</td>\n",
       "      <td>Yes</td>\n",
       "      <td>0</td>\n",
       "      <td>Graduate</td>\n",
       "      <td>Yes</td>\n",
       "      <td>3000</td>\n",
       "      <td>0.0</td>\n",
       "      <td>66.0</td>\n",
       "      <td>360.0</td>\n",
       "      <td>1.0</td>\n",
       "      <td>Urban</td>\n",
       "      <td>Y</td>\n",
       "    </tr>\n",
       "    <tr>\n",
       "      <th>3</th>\n",
       "      <td>LP001006</td>\n",
       "      <td>Male</td>\n",
       "      <td>Yes</td>\n",
       "      <td>0</td>\n",
       "      <td>Not Graduate</td>\n",
       "      <td>No</td>\n",
       "      <td>2583</td>\n",
       "      <td>2358.0</td>\n",
       "      <td>120.0</td>\n",
       "      <td>360.0</td>\n",
       "      <td>1.0</td>\n",
       "      <td>Urban</td>\n",
       "      <td>Y</td>\n",
       "    </tr>\n",
       "    <tr>\n",
       "      <th>4</th>\n",
       "      <td>LP001008</td>\n",
       "      <td>Male</td>\n",
       "      <td>No</td>\n",
       "      <td>0</td>\n",
       "      <td>Graduate</td>\n",
       "      <td>No</td>\n",
       "      <td>6000</td>\n",
       "      <td>0.0</td>\n",
       "      <td>141.0</td>\n",
       "      <td>360.0</td>\n",
       "      <td>1.0</td>\n",
       "      <td>Urban</td>\n",
       "      <td>Y</td>\n",
       "    </tr>\n",
       "  </tbody>\n",
       "</table>\n",
       "</div>"
      ],
      "text/plain": [
       "    Loan_ID Gender Married Dependents     Education Self_Employed  \\\n",
       "0  LP001002   Male      No          0      Graduate            No   \n",
       "1  LP001003   Male     Yes          1      Graduate            No   \n",
       "2  LP001005   Male     Yes          0      Graduate           Yes   \n",
       "3  LP001006   Male     Yes          0  Not Graduate            No   \n",
       "4  LP001008   Male      No          0      Graduate            No   \n",
       "\n",
       "   ApplicantIncome  CoapplicantIncome  LoanAmount  Loan_Amount_Term  \\\n",
       "0             5849                0.0         NaN             360.0   \n",
       "1             4583             1508.0       128.0             360.0   \n",
       "2             3000                0.0        66.0             360.0   \n",
       "3             2583             2358.0       120.0             360.0   \n",
       "4             6000                0.0       141.0             360.0   \n",
       "\n",
       "   Credit_History Property_Area Loan_Status  \n",
       "0             1.0         Urban           Y  \n",
       "1             1.0         Rural           N  \n",
       "2             1.0         Urban           Y  \n",
       "3             1.0         Urban           Y  \n",
       "4             1.0         Urban           Y  "
      ]
     },
     "execution_count": 3,
     "metadata": {},
     "output_type": "execute_result"
    }
   ],
   "source": [
    "df.head()"
   ]
  },
  {
   "cell_type": "code",
   "execution_count": 4,
   "id": "2c7a312b",
   "metadata": {},
   "outputs": [
    {
     "data": {
      "text/plain": [
       "(614, 13)"
      ]
     },
     "execution_count": 4,
     "metadata": {},
     "output_type": "execute_result"
    }
   ],
   "source": [
    "df.shape"
   ]
  },
  {
   "cell_type": "markdown",
   "id": "8a6b6bc3",
   "metadata": {},
   "source": [
    "#### Handling Categorical values"
   ]
  },
  {
   "cell_type": "code",
   "execution_count": 5,
   "id": "d1e74fc6",
   "metadata": {},
   "outputs": [
    {
     "data": {
      "text/html": [
       "<div>\n",
       "<style scoped>\n",
       "    .dataframe tbody tr th:only-of-type {\n",
       "        vertical-align: middle;\n",
       "    }\n",
       "\n",
       "    .dataframe tbody tr th {\n",
       "        vertical-align: top;\n",
       "    }\n",
       "\n",
       "    .dataframe thead th {\n",
       "        text-align: right;\n",
       "    }\n",
       "</style>\n",
       "<table border=\"1\" class=\"dataframe\">\n",
       "  <thead>\n",
       "    <tr style=\"text-align: right;\">\n",
       "      <th></th>\n",
       "      <th>Loan_ID</th>\n",
       "      <th>Gender</th>\n",
       "      <th>Married</th>\n",
       "      <th>Dependents</th>\n",
       "      <th>Education</th>\n",
       "      <th>Self_Employed</th>\n",
       "      <th>ApplicantIncome</th>\n",
       "      <th>CoapplicantIncome</th>\n",
       "      <th>LoanAmount</th>\n",
       "      <th>Loan_Amount_Term</th>\n",
       "      <th>Credit_History</th>\n",
       "      <th>Property_Area</th>\n",
       "      <th>Loan_Status</th>\n",
       "    </tr>\n",
       "  </thead>\n",
       "  <tbody>\n",
       "    <tr>\n",
       "      <th>0</th>\n",
       "      <td>LP001002</td>\n",
       "      <td>0.0</td>\n",
       "      <td>0.0</td>\n",
       "      <td>0</td>\n",
       "      <td>1</td>\n",
       "      <td>0.0</td>\n",
       "      <td>5849</td>\n",
       "      <td>0.0</td>\n",
       "      <td>NaN</td>\n",
       "      <td>360.0</td>\n",
       "      <td>1.0</td>\n",
       "      <td>2</td>\n",
       "      <td>1</td>\n",
       "    </tr>\n",
       "    <tr>\n",
       "      <th>1</th>\n",
       "      <td>LP001003</td>\n",
       "      <td>0.0</td>\n",
       "      <td>1.0</td>\n",
       "      <td>1</td>\n",
       "      <td>1</td>\n",
       "      <td>0.0</td>\n",
       "      <td>4583</td>\n",
       "      <td>1508.0</td>\n",
       "      <td>128.0</td>\n",
       "      <td>360.0</td>\n",
       "      <td>1.0</td>\n",
       "      <td>0</td>\n",
       "      <td>0</td>\n",
       "    </tr>\n",
       "    <tr>\n",
       "      <th>2</th>\n",
       "      <td>LP001005</td>\n",
       "      <td>0.0</td>\n",
       "      <td>1.0</td>\n",
       "      <td>0</td>\n",
       "      <td>1</td>\n",
       "      <td>1.0</td>\n",
       "      <td>3000</td>\n",
       "      <td>0.0</td>\n",
       "      <td>66.0</td>\n",
       "      <td>360.0</td>\n",
       "      <td>1.0</td>\n",
       "      <td>2</td>\n",
       "      <td>1</td>\n",
       "    </tr>\n",
       "    <tr>\n",
       "      <th>3</th>\n",
       "      <td>LP001006</td>\n",
       "      <td>0.0</td>\n",
       "      <td>1.0</td>\n",
       "      <td>0</td>\n",
       "      <td>0</td>\n",
       "      <td>0.0</td>\n",
       "      <td>2583</td>\n",
       "      <td>2358.0</td>\n",
       "      <td>120.0</td>\n",
       "      <td>360.0</td>\n",
       "      <td>1.0</td>\n",
       "      <td>2</td>\n",
       "      <td>1</td>\n",
       "    </tr>\n",
       "    <tr>\n",
       "      <th>4</th>\n",
       "      <td>LP001008</td>\n",
       "      <td>0.0</td>\n",
       "      <td>0.0</td>\n",
       "      <td>0</td>\n",
       "      <td>1</td>\n",
       "      <td>0.0</td>\n",
       "      <td>6000</td>\n",
       "      <td>0.0</td>\n",
       "      <td>141.0</td>\n",
       "      <td>360.0</td>\n",
       "      <td>1.0</td>\n",
       "      <td>2</td>\n",
       "      <td>1</td>\n",
       "    </tr>\n",
       "  </tbody>\n",
       "</table>\n",
       "</div>"
      ],
      "text/plain": [
       "    Loan_ID  Gender  Married Dependents  Education  Self_Employed  \\\n",
       "0  LP001002     0.0      0.0          0          1            0.0   \n",
       "1  LP001003     0.0      1.0          1          1            0.0   \n",
       "2  LP001005     0.0      1.0          0          1            1.0   \n",
       "3  LP001006     0.0      1.0          0          0            0.0   \n",
       "4  LP001008     0.0      0.0          0          1            0.0   \n",
       "\n",
       "   ApplicantIncome  CoapplicantIncome  LoanAmount  Loan_Amount_Term  \\\n",
       "0             5849                0.0         NaN             360.0   \n",
       "1             4583             1508.0       128.0             360.0   \n",
       "2             3000                0.0        66.0             360.0   \n",
       "3             2583             2358.0       120.0             360.0   \n",
       "4             6000                0.0       141.0             360.0   \n",
       "\n",
       "   Credit_History  Property_Area  Loan_Status  \n",
       "0             1.0              2            1  \n",
       "1             1.0              0            0  \n",
       "2             1.0              2            1  \n",
       "3             1.0              2            1  \n",
       "4             1.0              2            1  "
      ]
     },
     "execution_count": 5,
     "metadata": {},
     "output_type": "execute_result"
    }
   ],
   "source": [
    "df['Gender']=df['Gender'].map({'Female':1,'Male':0})\n",
    "df['Property_Area']=df['Property_Area'].map({'Urban':2,'Semiurban':1, 'Rural':0})\n",
    "df['Married']=df['Married'].map({'Yes':1,'No':0})\n",
    "df['Education']=df['Education'].map({'Graduate':1,'Not Graduate':0})\n",
    "df['Self_Employed']=df['Self_Employed'].map({'Yes':1,'No':0})\n",
    "df['Loan_Status']=df['Loan_Status'].map({'Y':1,'N':0})\n",
    "df.head()"
   ]
  },
  {
   "cell_type": "markdown",
   "id": "bf60b66e",
   "metadata": {},
   "source": [
    "#### Checking Null values"
   ]
  },
  {
   "cell_type": "code",
   "execution_count": 6,
   "id": "30b3bf15",
   "metadata": {},
   "outputs": [
    {
     "data": {
      "text/plain": [
       "Loan_ID               0\n",
       "Gender               13\n",
       "Married               3\n",
       "Dependents           15\n",
       "Education             0\n",
       "Self_Employed        32\n",
       "ApplicantIncome       0\n",
       "CoapplicantIncome     0\n",
       "LoanAmount           22\n",
       "Loan_Amount_Term     14\n",
       "Credit_History       50\n",
       "Property_Area         0\n",
       "Loan_Status           0\n",
       "dtype: int64"
      ]
     },
     "execution_count": 6,
     "metadata": {},
     "output_type": "execute_result"
    }
   ],
   "source": [
    "df.isnull().sum()"
   ]
  },
  {
   "cell_type": "markdown",
   "id": "10ed22af",
   "metadata": {},
   "source": [
    "#### Filling Null values"
   ]
  },
  {
   "cell_type": "code",
   "execution_count": 7,
   "id": "aa106db7",
   "metadata": {},
   "outputs": [],
   "source": [
    "df['Gender'] = df['Gender'].fillna(df['Gender'].mode()[0])\n",
    "df['Married'] = df['Married'].fillna(df['Married'].mode()[0])\n",
    "df['Dependents']=df['Dependents'].str.replace('+','')\n",
    "df['Dependents']=df['Dependents'].fillna(df['Dependents'].mode()[0])\n",
    "df['Self_Employed'] = df['Self_Employed'].fillna(df['Self_Employed'].mode()[0])\n",
    "df['LoanAmount'] = df['LoanAmount'].fillna(df['LoanAmount'].mode()[0])\n",
    "df['Loan_Amount_Term'] = df['Loan_Amount_Term'].fillna(df['Loan_Amount_Term'].mode()[0])\n",
    "df['Credit_History'] = df['Credit_History'].fillna(df['Credit_History'].mode()[0])"
   ]
  },
  {
   "cell_type": "code",
   "execution_count": 8,
   "id": "d7bb11d5",
   "metadata": {},
   "outputs": [
    {
     "data": {
      "text/plain": [
       "Loan_ID              0\n",
       "Gender               0\n",
       "Married              0\n",
       "Dependents           0\n",
       "Education            0\n",
       "Self_Employed        0\n",
       "ApplicantIncome      0\n",
       "CoapplicantIncome    0\n",
       "LoanAmount           0\n",
       "Loan_Amount_Term     0\n",
       "Credit_History       0\n",
       "Property_Area        0\n",
       "Loan_Status          0\n",
       "dtype: int64"
      ]
     },
     "execution_count": 8,
     "metadata": {},
     "output_type": "execute_result"
    }
   ],
   "source": [
    "df.isnull().sum()"
   ]
  },
  {
   "cell_type": "code",
   "execution_count": 9,
   "id": "819e6390",
   "metadata": {},
   "outputs": [
    {
     "name": "stdout",
     "output_type": "stream",
     "text": [
      "<class 'pandas.core.frame.DataFrame'>\n",
      "RangeIndex: 614 entries, 0 to 613\n",
      "Data columns (total 13 columns):\n",
      " #   Column             Non-Null Count  Dtype  \n",
      "---  ------             --------------  -----  \n",
      " 0   Loan_ID            614 non-null    object \n",
      " 1   Gender             614 non-null    float64\n",
      " 2   Married            614 non-null    float64\n",
      " 3   Dependents         614 non-null    object \n",
      " 4   Education          614 non-null    int64  \n",
      " 5   Self_Employed      614 non-null    float64\n",
      " 6   ApplicantIncome    614 non-null    int64  \n",
      " 7   CoapplicantIncome  614 non-null    float64\n",
      " 8   LoanAmount         614 non-null    float64\n",
      " 9   Loan_Amount_Term   614 non-null    float64\n",
      " 10  Credit_History     614 non-null    float64\n",
      " 11  Property_Area      614 non-null    int64  \n",
      " 12  Loan_Status        614 non-null    int64  \n",
      "dtypes: float64(7), int64(4), object(2)\n",
      "memory usage: 62.5+ KB\n"
     ]
    }
   ],
   "source": [
    "df.info()"
   ]
  },
  {
   "cell_type": "markdown",
   "id": "cb48bcb8",
   "metadata": {},
   "source": [
    "#### Changing the data type of each float cloumn to int"
   ]
  },
  {
   "cell_type": "code",
   "execution_count": 10,
   "id": "2fd48e6d",
   "metadata": {},
   "outputs": [],
   "source": [
    "df['Gender']=df['Gender'].astype('int64')\n",
    "df['Married']=df['Married'].astype('int64')\n",
    "df['Dependents']=df['Dependents'].astype('int64')\n",
    "df['Self_Employed']=df['Self_Employed'].astype('int64')\n",
    "df['CoapplicantIncome']=df['CoapplicantIncome'].astype('int64')\n",
    "df['LoanAmount']=df['LoanAmount'].astype('int64')\n",
    "df['Loan_Amount_Term']=df['Loan_Amount_Term'].astype('int64')\n",
    "df['Credit_History']=df['Credit_History'].astype('int64')"
   ]
  },
  {
   "cell_type": "code",
   "execution_count": 11,
   "id": "02459617",
   "metadata": {},
   "outputs": [
    {
     "data": {
      "text/html": [
       "<div>\n",
       "<style scoped>\n",
       "    .dataframe tbody tr th:only-of-type {\n",
       "        vertical-align: middle;\n",
       "    }\n",
       "\n",
       "    .dataframe tbody tr th {\n",
       "        vertical-align: top;\n",
       "    }\n",
       "\n",
       "    .dataframe thead th {\n",
       "        text-align: right;\n",
       "    }\n",
       "</style>\n",
       "<table border=\"1\" class=\"dataframe\">\n",
       "  <thead>\n",
       "    <tr style=\"text-align: right;\">\n",
       "      <th></th>\n",
       "      <th>Loan_ID</th>\n",
       "      <th>Gender</th>\n",
       "      <th>Married</th>\n",
       "      <th>Dependents</th>\n",
       "      <th>Education</th>\n",
       "      <th>Self_Employed</th>\n",
       "      <th>ApplicantIncome</th>\n",
       "      <th>CoapplicantIncome</th>\n",
       "      <th>LoanAmount</th>\n",
       "      <th>Loan_Amount_Term</th>\n",
       "      <th>Credit_History</th>\n",
       "      <th>Property_Area</th>\n",
       "      <th>Loan_Status</th>\n",
       "    </tr>\n",
       "  </thead>\n",
       "  <tbody>\n",
       "    <tr>\n",
       "      <th>0</th>\n",
       "      <td>LP001002</td>\n",
       "      <td>0</td>\n",
       "      <td>0</td>\n",
       "      <td>0</td>\n",
       "      <td>1</td>\n",
       "      <td>0</td>\n",
       "      <td>5849</td>\n",
       "      <td>0</td>\n",
       "      <td>120</td>\n",
       "      <td>360</td>\n",
       "      <td>1</td>\n",
       "      <td>2</td>\n",
       "      <td>1</td>\n",
       "    </tr>\n",
       "    <tr>\n",
       "      <th>1</th>\n",
       "      <td>LP001003</td>\n",
       "      <td>0</td>\n",
       "      <td>1</td>\n",
       "      <td>1</td>\n",
       "      <td>1</td>\n",
       "      <td>0</td>\n",
       "      <td>4583</td>\n",
       "      <td>1508</td>\n",
       "      <td>128</td>\n",
       "      <td>360</td>\n",
       "      <td>1</td>\n",
       "      <td>0</td>\n",
       "      <td>0</td>\n",
       "    </tr>\n",
       "    <tr>\n",
       "      <th>2</th>\n",
       "      <td>LP001005</td>\n",
       "      <td>0</td>\n",
       "      <td>1</td>\n",
       "      <td>0</td>\n",
       "      <td>1</td>\n",
       "      <td>1</td>\n",
       "      <td>3000</td>\n",
       "      <td>0</td>\n",
       "      <td>66</td>\n",
       "      <td>360</td>\n",
       "      <td>1</td>\n",
       "      <td>2</td>\n",
       "      <td>1</td>\n",
       "    </tr>\n",
       "    <tr>\n",
       "      <th>3</th>\n",
       "      <td>LP001006</td>\n",
       "      <td>0</td>\n",
       "      <td>1</td>\n",
       "      <td>0</td>\n",
       "      <td>0</td>\n",
       "      <td>0</td>\n",
       "      <td>2583</td>\n",
       "      <td>2358</td>\n",
       "      <td>120</td>\n",
       "      <td>360</td>\n",
       "      <td>1</td>\n",
       "      <td>2</td>\n",
       "      <td>1</td>\n",
       "    </tr>\n",
       "    <tr>\n",
       "      <th>4</th>\n",
       "      <td>LP001008</td>\n",
       "      <td>0</td>\n",
       "      <td>0</td>\n",
       "      <td>0</td>\n",
       "      <td>1</td>\n",
       "      <td>0</td>\n",
       "      <td>6000</td>\n",
       "      <td>0</td>\n",
       "      <td>141</td>\n",
       "      <td>360</td>\n",
       "      <td>1</td>\n",
       "      <td>2</td>\n",
       "      <td>1</td>\n",
       "    </tr>\n",
       "  </tbody>\n",
       "</table>\n",
       "</div>"
      ],
      "text/plain": [
       "    Loan_ID  Gender  Married  Dependents  Education  Self_Employed  \\\n",
       "0  LP001002       0        0           0          1              0   \n",
       "1  LP001003       0        1           1          1              0   \n",
       "2  LP001005       0        1           0          1              1   \n",
       "3  LP001006       0        1           0          0              0   \n",
       "4  LP001008       0        0           0          1              0   \n",
       "\n",
       "   ApplicantIncome  CoapplicantIncome  LoanAmount  Loan_Amount_Term  \\\n",
       "0             5849                  0         120               360   \n",
       "1             4583               1508         128               360   \n",
       "2             3000                  0          66               360   \n",
       "3             2583               2358         120               360   \n",
       "4             6000                  0         141               360   \n",
       "\n",
       "   Credit_History  Property_Area  Loan_Status  \n",
       "0               1              2            1  \n",
       "1               1              0            0  \n",
       "2               1              2            1  \n",
       "3               1              2            1  \n",
       "4               1              2            1  "
      ]
     },
     "execution_count": 11,
     "metadata": {},
     "output_type": "execute_result"
    }
   ],
   "source": [
    "df.head()"
   ]
  },
  {
   "cell_type": "markdown",
   "id": "8f77b5e1",
   "metadata": {},
   "source": [
    "#### Final Dataset shape"
   ]
  },
  {
   "cell_type": "code",
   "execution_count": 12,
   "id": "34f05e1c",
   "metadata": {},
   "outputs": [
    {
     "data": {
      "text/plain": [
       "(614, 13)"
      ]
     },
     "execution_count": 12,
     "metadata": {},
     "output_type": "execute_result"
    }
   ],
   "source": [
    "df.shape"
   ]
  },
  {
   "cell_type": "code",
   "execution_count": 13,
   "id": "361e7029",
   "metadata": {},
   "outputs": [
    {
     "data": {
      "text/html": [
       "<div>\n",
       "<style scoped>\n",
       "    .dataframe tbody tr th:only-of-type {\n",
       "        vertical-align: middle;\n",
       "    }\n",
       "\n",
       "    .dataframe tbody tr th {\n",
       "        vertical-align: top;\n",
       "    }\n",
       "\n",
       "    .dataframe thead th {\n",
       "        text-align: right;\n",
       "    }\n",
       "</style>\n",
       "<table border=\"1\" class=\"dataframe\">\n",
       "  <thead>\n",
       "    <tr style=\"text-align: right;\">\n",
       "      <th></th>\n",
       "      <th>Gender</th>\n",
       "      <th>Married</th>\n",
       "      <th>Dependents</th>\n",
       "      <th>Education</th>\n",
       "      <th>Self_Employed</th>\n",
       "      <th>ApplicantIncome</th>\n",
       "      <th>CoapplicantIncome</th>\n",
       "      <th>LoanAmount</th>\n",
       "      <th>Loan_Amount_Term</th>\n",
       "      <th>Credit_History</th>\n",
       "      <th>Property_Area</th>\n",
       "      <th>Loan_Status</th>\n",
       "    </tr>\n",
       "  </thead>\n",
       "  <tbody>\n",
       "    <tr>\n",
       "      <th>0</th>\n",
       "      <td>0</td>\n",
       "      <td>0</td>\n",
       "      <td>0</td>\n",
       "      <td>1</td>\n",
       "      <td>0</td>\n",
       "      <td>5849</td>\n",
       "      <td>0</td>\n",
       "      <td>120</td>\n",
       "      <td>360</td>\n",
       "      <td>1</td>\n",
       "      <td>2</td>\n",
       "      <td>1</td>\n",
       "    </tr>\n",
       "    <tr>\n",
       "      <th>1</th>\n",
       "      <td>0</td>\n",
       "      <td>1</td>\n",
       "      <td>1</td>\n",
       "      <td>1</td>\n",
       "      <td>0</td>\n",
       "      <td>4583</td>\n",
       "      <td>1508</td>\n",
       "      <td>128</td>\n",
       "      <td>360</td>\n",
       "      <td>1</td>\n",
       "      <td>0</td>\n",
       "      <td>0</td>\n",
       "    </tr>\n",
       "    <tr>\n",
       "      <th>2</th>\n",
       "      <td>0</td>\n",
       "      <td>1</td>\n",
       "      <td>0</td>\n",
       "      <td>1</td>\n",
       "      <td>1</td>\n",
       "      <td>3000</td>\n",
       "      <td>0</td>\n",
       "      <td>66</td>\n",
       "      <td>360</td>\n",
       "      <td>1</td>\n",
       "      <td>2</td>\n",
       "      <td>1</td>\n",
       "    </tr>\n",
       "    <tr>\n",
       "      <th>3</th>\n",
       "      <td>0</td>\n",
       "      <td>1</td>\n",
       "      <td>0</td>\n",
       "      <td>0</td>\n",
       "      <td>0</td>\n",
       "      <td>2583</td>\n",
       "      <td>2358</td>\n",
       "      <td>120</td>\n",
       "      <td>360</td>\n",
       "      <td>1</td>\n",
       "      <td>2</td>\n",
       "      <td>1</td>\n",
       "    </tr>\n",
       "    <tr>\n",
       "      <th>4</th>\n",
       "      <td>0</td>\n",
       "      <td>0</td>\n",
       "      <td>0</td>\n",
       "      <td>1</td>\n",
       "      <td>0</td>\n",
       "      <td>6000</td>\n",
       "      <td>0</td>\n",
       "      <td>141</td>\n",
       "      <td>360</td>\n",
       "      <td>1</td>\n",
       "      <td>2</td>\n",
       "      <td>1</td>\n",
       "    </tr>\n",
       "  </tbody>\n",
       "</table>\n",
       "</div>"
      ],
      "text/plain": [
       "   Gender  Married  Dependents  Education  Self_Employed  ApplicantIncome  \\\n",
       "0       0        0           0          1              0             5849   \n",
       "1       0        1           1          1              0             4583   \n",
       "2       0        1           0          1              1             3000   \n",
       "3       0        1           0          0              0             2583   \n",
       "4       0        0           0          1              0             6000   \n",
       "\n",
       "   CoapplicantIncome  LoanAmount  Loan_Amount_Term  Credit_History  \\\n",
       "0                  0         120               360               1   \n",
       "1               1508         128               360               1   \n",
       "2                  0          66               360               1   \n",
       "3               2358         120               360               1   \n",
       "4                  0         141               360               1   \n",
       "\n",
       "   Property_Area  Loan_Status  \n",
       "0              2            1  \n",
       "1              0            0  \n",
       "2              2            1  \n",
       "3              2            1  \n",
       "4              2            1  "
      ]
     },
     "execution_count": 13,
     "metadata": {},
     "output_type": "execute_result"
    }
   ],
   "source": [
    "df.drop(['Loan_ID'],axis=1,inplace=True)\n",
    "df.head()"
   ]
  },
  {
   "cell_type": "markdown",
   "id": "1d55761b",
   "metadata": {},
   "source": [
    "#### Exploratory Data Analysis\n",
    "Comparison b/w Male & Female on getting Loan"
   ]
  },
  {
   "cell_type": "code",
   "execution_count": 14,
   "id": "fbf987f2",
   "metadata": {},
   "outputs": [
    {
     "name": "stdout",
     "output_type": "stream",
     "text": [
      "Loan_Status    0    1\n",
      "Gender               \n",
      "0            155  347\n",
      "1             37   75\n"
     ]
    },
    {
     "data": {
      "image/png": "[encoded data removed]",
      "text/plain": [
       "<Figure size 432x288 with 1 Axes>"
      ]
     },
     "metadata": {
      "needs_background": "light"
     },
     "output_type": "display_data"
    }
   ],
   "source": [
    "sns.countplot(df['Gender'],hue=df['Loan_Status'],palette='ocean')\n",
    "print(pd.crosstab(df['Gender'],df['Loan_Status']))"
   ]
  },
  {
   "cell_type": "markdown",
   "id": "7c761dff",
   "metadata": {},
   "source": [
    "Hence, Males has more chance of getting loan"
   ]
  },
  {
   "cell_type": "markdown",
   "id": "7c9d4cd9",
   "metadata": {},
   "source": [
    "Comparison b/w Married & Unmarried on getting Loan"
   ]
  },
  {
   "cell_type": "code",
   "execution_count": 15,
   "id": "a3838e74",
   "metadata": {},
   "outputs": [
    {
     "name": "stdout",
     "output_type": "stream",
     "text": [
      "Loan_Status    0    1\n",
      "Married              \n",
      "0             79  134\n",
      "1            113  288\n"
     ]
    },
    {
     "data": {
      "image/png": "[encoded data removed]",
      "text/plain": [
       "<Figure size 432x288 with 1 Axes>"
      ]
     },
     "metadata": {
      "needs_background": "light"
     },
     "output_type": "display_data"
    }
   ],
   "source": [
    "sns.countplot(df['Married'],hue=df['Loan_Status'],palette='ocean')\n",
    "print(pd.crosstab(df['Married'],df['Loan_Status']))"
   ]
  },
  {
   "cell_type": "markdown",
   "id": "0419a142",
   "metadata": {},
   "source": [
    "Married persons has more chance of getting loan "
   ]
  },
  {
   "cell_type": "markdown",
   "id": "fc079aad",
   "metadata": {},
   "source": [
    "Comparison b/w Graduated & Ungraduated on getting loans"
   ]
  },
  {
   "cell_type": "code",
   "execution_count": 16,
   "id": "aed7781d",
   "metadata": {},
   "outputs": [
    {
     "name": "stdout",
     "output_type": "stream",
     "text": [
      "Loan_Status    0    1\n",
      "Education            \n",
      "0             52   82\n",
      "1            140  340\n"
     ]
    },
    {
     "data": {
      "image/png": "[encoded data removed]",
      "text/plain": [
       "<Figure size 432x288 with 1 Axes>"
      ]
     },
     "metadata": {
      "needs_background": "light"
     },
     "output_type": "display_data"
    }
   ],
   "source": [
    "sns.countplot(df['Education'],hue=df['Loan_Status'],palette='ocean')\n",
    "print(pd.crosstab(df['Education'],df['Loan_Status']))"
   ]
  },
  {
   "cell_type": "markdown",
   "id": "8f394d6a",
   "metadata": {},
   "source": [
    "Graduates has more chances of getting loan"
   ]
  },
  {
   "cell_type": "markdown",
   "id": "9f29272a",
   "metadata": {},
   "source": [
    "Comparison b/w Selfemployed & Unemployed on getting loans"
   ]
  },
  {
   "cell_type": "code",
   "execution_count": 17,
   "id": "da44c9dd",
   "metadata": {},
   "outputs": [
    {
     "name": "stdout",
     "output_type": "stream",
     "text": [
      "Loan_Status      0    1\n",
      "Self_Employed          \n",
      "0              166  366\n",
      "1               26   56\n"
     ]
    },
    {
     "data": {
      "image/png": "[encoded data removed]",
      "text/plain": [
       "<Figure size 432x288 with 1 Axes>"
      ]
     },
     "metadata": {
      "needs_background": "light"
     },
     "output_type": "display_data"
    }
   ],
   "source": [
    "sns.countplot(df['Self_Employed'],hue=df['Loan_Status'],palette='ocean')\n",
    "print(pd.crosstab(df['Self_Employed'],df['Loan_Status']))"
   ]
  },
  {
   "cell_type": "markdown",
   "id": "9539d36f",
   "metadata": {},
   "source": [
    "Unemployed has more chance of getting loan"
   ]
  },
  {
   "cell_type": "markdown",
   "id": "439c1001",
   "metadata": {},
   "source": [
    "#### Displaying Correlation Matrix"
   ]
  },
  {
   "cell_type": "code",
   "execution_count": 18,
   "id": "cebd5bec",
   "metadata": {},
   "outputs": [
    {
     "data": {
      "text/plain": [
       "Text(0.5, 1.0, 'Correlation Matrix (for Loan Status)')"
      ]
     },
     "execution_count": 18,
     "metadata": {},
     "output_type": "execute_result"
    },
    {
     "data": {
      "image/png": "[encoded data removed]",
      "text/plain": [
       "<Figure size 1152x360 with 2 Axes>"
      ]
     },
     "metadata": {
      "needs_background": "light"
     },
     "output_type": "display_data"
    }
   ],
   "source": [
    "plt.figure(figsize=(16,5))\n",
    "sns.heatmap(df.corr(),annot=True)\n",
    "plt.title('Correlation Matrix (for Loan Status)')"
   ]
  },
  {
   "cell_type": "markdown",
   "id": "e89dee39",
   "metadata": {},
   "source": [
    "The above figure denotes Loan_Status is heavily dependent on the Credit_History. Because Credit_History(Independent Variable)\n",
    "has maximum correlation with Loan_Status(Dependent Variable)."
   ]
  },
  {
   "cell_type": "markdown",
   "id": "64f140a5",
   "metadata": {},
   "source": [
    "#### Handling Imbalance Data"
   ]
  },
  {
   "cell_type": "code",
   "execution_count": 19,
   "id": "2b88645d",
   "metadata": {},
   "outputs": [],
   "source": [
    "from imblearn.combine import SMOTETomek\n",
    "smote = SMOTETomek()\n",
    "y = df['Loan_Status']\n",
    "x = df.drop(columns=['Loan_Status'],axis=1)"
   ]
  },
  {
   "cell_type": "markdown",
   "id": "4381b84c",
   "metadata": {},
   "source": [
    "#### dividing the dataset into dependent and independent y and x respectively"
   ]
  },
  {
   "cell_type": "code",
   "execution_count": 20,
   "id": "7f602a49",
   "metadata": {},
   "outputs": [
    {
     "data": {
      "text/plain": [
       "(614, 11)"
      ]
     },
     "execution_count": 20,
     "metadata": {},
     "output_type": "execute_result"
    }
   ],
   "source": [
    "x.shape"
   ]
  },
  {
   "cell_type": "code",
   "execution_count": 21,
   "id": "2235f4cf",
   "metadata": {},
   "outputs": [
    {
     "data": {
      "text/plain": [
       "(614,)"
      ]
     },
     "execution_count": 21,
     "metadata": {},
     "output_type": "execute_result"
    }
   ],
   "source": [
    "y.shape"
   ]
  },
  {
   "cell_type": "code",
   "execution_count": 22,
   "id": "812dc8c2",
   "metadata": {},
   "outputs": [
    {
     "name": "stdout",
     "output_type": "stream",
     "text": [
      "1    422\n",
      "0    192\n",
      "Name: Loan_Status, dtype: int64\n",
      "1    347\n",
      "0    347\n",
      "Name: Loan_Status, dtype: int64\n"
     ]
    }
   ],
   "source": [
    "x_bal,y_bal = smote.fit_resample(x,y)\n",
    "print(y.value_counts())\n",
    "print(y_bal.value_counts())"
   ]
  },
  {
   "cell_type": "code",
   "execution_count": 23,
   "id": "5df710e7",
   "metadata": {},
   "outputs": [
    {
     "data": {
      "text/plain": [
       "Index(['Gender', 'Married', 'Dependents', 'Education', 'Self_Employed',\n",
       "       'ApplicantIncome', 'CoapplicantIncome', 'LoanAmount',\n",
       "       'Loan_Amount_Term', 'Credit_History', 'Property_Area'],\n",
       "      dtype='object')"
      ]
     },
     "execution_count": 23,
     "metadata": {},
     "output_type": "execute_result"
    }
   ],
   "source": [
    "names = x_bal.columns\n",
    "names"
   ]
  },
  {
   "cell_type": "code",
   "execution_count": 24,
   "id": "e368c98f",
   "metadata": {},
   "outputs": [
    {
     "data": {
      "text/html": [
       "<div>\n",
       "<style scoped>\n",
       "    .dataframe tbody tr th:only-of-type {\n",
       "        vertical-align: middle;\n",
       "    }\n",
       "\n",
       "    .dataframe tbody tr th {\n",
       "        vertical-align: top;\n",
       "    }\n",
       "\n",
       "    .dataframe thead th {\n",
       "        text-align: right;\n",
       "    }\n",
       "</style>\n",
       "<table border=\"1\" class=\"dataframe\">\n",
       "  <thead>\n",
       "    <tr style=\"text-align: right;\">\n",
       "      <th></th>\n",
       "      <th>Gender</th>\n",
       "      <th>Married</th>\n",
       "      <th>Dependents</th>\n",
       "      <th>Education</th>\n",
       "      <th>Self_Employed</th>\n",
       "      <th>ApplicantIncome</th>\n",
       "      <th>CoapplicantIncome</th>\n",
       "      <th>LoanAmount</th>\n",
       "      <th>Loan_Amount_Term</th>\n",
       "      <th>Credit_History</th>\n",
       "      <th>Property_Area</th>\n",
       "    </tr>\n",
       "  </thead>\n",
       "  <tbody>\n",
       "    <tr>\n",
       "      <th>0</th>\n",
       "      <td>0</td>\n",
       "      <td>0</td>\n",
       "      <td>0</td>\n",
       "      <td>1</td>\n",
       "      <td>0</td>\n",
       "      <td>5849</td>\n",
       "      <td>0</td>\n",
       "      <td>120</td>\n",
       "      <td>360</td>\n",
       "      <td>1</td>\n",
       "      <td>2</td>\n",
       "    </tr>\n",
       "    <tr>\n",
       "      <th>1</th>\n",
       "      <td>0</td>\n",
       "      <td>1</td>\n",
       "      <td>0</td>\n",
       "      <td>1</td>\n",
       "      <td>1</td>\n",
       "      <td>3000</td>\n",
       "      <td>0</td>\n",
       "      <td>66</td>\n",
       "      <td>360</td>\n",
       "      <td>1</td>\n",
       "      <td>2</td>\n",
       "    </tr>\n",
       "    <tr>\n",
       "      <th>2</th>\n",
       "      <td>0</td>\n",
       "      <td>1</td>\n",
       "      <td>0</td>\n",
       "      <td>0</td>\n",
       "      <td>0</td>\n",
       "      <td>2583</td>\n",
       "      <td>2358</td>\n",
       "      <td>120</td>\n",
       "      <td>360</td>\n",
       "      <td>1</td>\n",
       "      <td>2</td>\n",
       "    </tr>\n",
       "    <tr>\n",
       "      <th>3</th>\n",
       "      <td>0</td>\n",
       "      <td>0</td>\n",
       "      <td>0</td>\n",
       "      <td>1</td>\n",
       "      <td>0</td>\n",
       "      <td>6000</td>\n",
       "      <td>0</td>\n",
       "      <td>141</td>\n",
       "      <td>360</td>\n",
       "      <td>1</td>\n",
       "      <td>2</td>\n",
       "    </tr>\n",
       "    <tr>\n",
       "      <th>4</th>\n",
       "      <td>0</td>\n",
       "      <td>1</td>\n",
       "      <td>2</td>\n",
       "      <td>1</td>\n",
       "      <td>1</td>\n",
       "      <td>5417</td>\n",
       "      <td>4196</td>\n",
       "      <td>267</td>\n",
       "      <td>360</td>\n",
       "      <td>1</td>\n",
       "      <td>2</td>\n",
       "    </tr>\n",
       "  </tbody>\n",
       "</table>\n",
       "</div>"
      ],
      "text/plain": [
       "   Gender  Married  Dependents  Education  Self_Employed  ApplicantIncome  \\\n",
       "0       0        0           0          1              0             5849   \n",
       "1       0        1           0          1              1             3000   \n",
       "2       0        1           0          0              0             2583   \n",
       "3       0        0           0          1              0             6000   \n",
       "4       0        1           2          1              1             5417   \n",
       "\n",
       "   CoapplicantIncome  LoanAmount  Loan_Amount_Term  Credit_History  \\\n",
       "0                  0         120               360               1   \n",
       "1                  0          66               360               1   \n",
       "2               2358         120               360               1   \n",
       "3                  0         141               360               1   \n",
       "4               4196         267               360               1   \n",
       "\n",
       "   Property_Area  \n",
       "0              2  \n",
       "1              2  \n",
       "2              2  \n",
       "3              2  \n",
       "4              2  "
      ]
     },
     "execution_count": 24,
     "metadata": {},
     "output_type": "execute_result"
    }
   ],
   "source": [
    "x_bal.head()"
   ]
  },
  {
   "cell_type": "markdown",
   "id": "357943f3",
   "metadata": {},
   "source": [
    "#### Scaling the Dataset\n",
    "performing feature scaling operation using standard scaller an x part ofthe dataset because there different type of value in the columns"
   ]
  },
  {
   "cell_type": "code",
   "execution_count": 25,
   "id": "aeecae3f",
   "metadata": {},
   "outputs": [
    {
     "data": {
      "text/html": [
       "<div>\n",
       "<style scoped>\n",
       "    .dataframe tbody tr th:only-of-type {\n",
       "        vertical-align: middle;\n",
       "    }\n",
       "\n",
       "    .dataframe tbody tr th {\n",
       "        vertical-align: top;\n",
       "    }\n",
       "\n",
       "    .dataframe thead th {\n",
       "        text-align: right;\n",
       "    }\n",
       "</style>\n",
       "<table border=\"1\" class=\"dataframe\">\n",
       "  <thead>\n",
       "    <tr style=\"text-align: right;\">\n",
       "      <th></th>\n",
       "      <th>Gender</th>\n",
       "      <th>Married</th>\n",
       "      <th>Dependents</th>\n",
       "      <th>Education</th>\n",
       "      <th>Self_Employed</th>\n",
       "      <th>ApplicantIncome</th>\n",
       "      <th>CoapplicantIncome</th>\n",
       "      <th>LoanAmount</th>\n",
       "      <th>Loan_Amount_Term</th>\n",
       "      <th>Credit_History</th>\n",
       "      <th>Property_Area</th>\n",
       "    </tr>\n",
       "  </thead>\n",
       "  <tbody>\n",
       "    <tr>\n",
       "      <th>0</th>\n",
       "      <td>-0.429302</td>\n",
       "      <td>-1.132649</td>\n",
       "      <td>-0.681317</td>\n",
       "      <td>0.596212</td>\n",
       "      <td>-0.332265</td>\n",
       "      <td>0.071789</td>\n",
       "      <td>-0.508884</td>\n",
       "      <td>-0.312333</td>\n",
       "      <td>0.320179</td>\n",
       "      <td>0.622896</td>\n",
       "      <td>1.327335</td>\n",
       "    </tr>\n",
       "    <tr>\n",
       "      <th>1</th>\n",
       "      <td>-0.429302</td>\n",
       "      <td>0.882886</td>\n",
       "      <td>-0.681317</td>\n",
       "      <td>0.596212</td>\n",
       "      <td>3.009646</td>\n",
       "      <td>-0.367990</td>\n",
       "      <td>-0.508884</td>\n",
       "      <td>-0.994483</td>\n",
       "      <td>0.320179</td>\n",
       "      <td>0.622896</td>\n",
       "      <td>1.327335</td>\n",
       "    </tr>\n",
       "    <tr>\n",
       "      <th>2</th>\n",
       "      <td>-0.429302</td>\n",
       "      <td>0.882886</td>\n",
       "      <td>-0.681317</td>\n",
       "      <td>-1.677256</td>\n",
       "      <td>-0.332265</td>\n",
       "      <td>-0.432359</td>\n",
       "      <td>0.185205</td>\n",
       "      <td>-0.312333</td>\n",
       "      <td>0.320179</td>\n",
       "      <td>0.622896</td>\n",
       "      <td>1.327335</td>\n",
       "    </tr>\n",
       "    <tr>\n",
       "      <th>3</th>\n",
       "      <td>-0.429302</td>\n",
       "      <td>-1.132649</td>\n",
       "      <td>-0.681317</td>\n",
       "      <td>0.596212</td>\n",
       "      <td>-0.332265</td>\n",
       "      <td>0.095097</td>\n",
       "      <td>-0.508884</td>\n",
       "      <td>-0.047053</td>\n",
       "      <td>0.320179</td>\n",
       "      <td>0.622896</td>\n",
       "      <td>1.327335</td>\n",
       "    </tr>\n",
       "    <tr>\n",
       "      <th>4</th>\n",
       "      <td>-0.429302</td>\n",
       "      <td>0.882886</td>\n",
       "      <td>1.487645</td>\n",
       "      <td>0.596212</td>\n",
       "      <td>3.009646</td>\n",
       "      <td>0.005104</td>\n",
       "      <td>0.726229</td>\n",
       "      <td>1.544629</td>\n",
       "      <td>0.320179</td>\n",
       "      <td>0.622896</td>\n",
       "      <td>1.327335</td>\n",
       "    </tr>\n",
       "  </tbody>\n",
       "</table>\n",
       "</div>"
      ],
      "text/plain": [
       "     Gender   Married  Dependents  Education  Self_Employed  ApplicantIncome  \\\n",
       "0 -0.429302 -1.132649   -0.681317   0.596212      -0.332265         0.071789   \n",
       "1 -0.429302  0.882886   -0.681317   0.596212       3.009646        -0.367990   \n",
       "2 -0.429302  0.882886   -0.681317  -1.677256      -0.332265        -0.432359   \n",
       "3 -0.429302 -1.132649   -0.681317   0.596212      -0.332265         0.095097   \n",
       "4 -0.429302  0.882886    1.487645   0.596212       3.009646         0.005104   \n",
       "\n",
       "   CoapplicantIncome  LoanAmount  Loan_Amount_Term  Credit_History  \\\n",
       "0          -0.508884   -0.312333          0.320179        0.622896   \n",
       "1          -0.508884   -0.994483          0.320179        0.622896   \n",
       "2           0.185205   -0.312333          0.320179        0.622896   \n",
       "3          -0.508884   -0.047053          0.320179        0.622896   \n",
       "4           0.726229    1.544629          0.320179        0.622896   \n",
       "\n",
       "   Property_Area  \n",
       "0       1.327335  \n",
       "1       1.327335  \n",
       "2       1.327335  \n",
       "3       1.327335  \n",
       "4       1.327335  "
      ]
     },
     "execution_count": 25,
     "metadata": {},
     "output_type": "execute_result"
    }
   ],
   "source": [
    "sc=StandardScaler()\n",
    "x_bal=sc.fit_transform(x_bal)\n",
    "x_bal = pd.DataFrame(x_bal,columns=names)\n",
    "x_bal.head()"
   ]
  },
  {
   "cell_type": "markdown",
   "id": "05be6213",
   "metadata": {},
   "source": [
    "#### Splitting Dataset"
   ]
  },
  {
   "cell_type": "code",
   "execution_count": 26,
   "id": "0d0c6a56",
   "metadata": {},
   "outputs": [],
   "source": [
    "x_train,x_test,y_train,y_test = train_test_split(x_bal,y_bal, test_size=0.33, random_state=42)"
   ]
  },
  {
   "cell_type": "code",
   "execution_count": 27,
   "id": "e40f184e",
   "metadata": {},
   "outputs": [
    {
     "data": {
      "text/plain": [
       "(464, 11)"
      ]
     },
     "execution_count": 27,
     "metadata": {},
     "output_type": "execute_result"
    }
   ],
   "source": [
    "x_train.shape"
   ]
  },
  {
   "cell_type": "code",
   "execution_count": 28,
   "id": "eb5c7ef7",
   "metadata": {},
   "outputs": [
    {
     "data": {
      "text/plain": [
       "((464,), (230,))"
      ]
     },
     "execution_count": 28,
     "metadata": {},
     "output_type": "execute_result"
    }
   ],
   "source": [
    "y_train.shape, y_test.shape"
   ]
  },
  {
   "cell_type": "code",
   "execution_count": 29,
   "id": "d940177b",
   "metadata": {},
   "outputs": [
    {
     "name": "stdout",
     "output_type": "stream",
     "text": [
      "       Gender   Married  Dependents  Education  Self_Employed  \\\n",
      "349  2.329362 -1.132649    0.403164  -1.677256      -0.332265   \n",
      "328 -0.429302  0.882886    1.487645  -1.677256      -0.332265   \n",
      "33  -0.429302  0.882886   -0.681317   0.596212      -0.332265   \n",
      "429 -0.429302  0.882886    1.487645   0.596212       3.009646   \n",
      "354 -0.429302 -1.132649   -0.681317   0.596212      -0.332265   \n",
      "..        ...       ...         ...        ...            ...   \n",
      "71  -0.429302  0.882886   -0.681317   0.596212      -0.332265   \n",
      "106 -0.429302  0.882886    2.572126   0.596212      -0.332265   \n",
      "270 -0.429302 -1.132649   -0.681317   0.596212      -0.332265   \n",
      "435 -0.429302  0.882886    2.572126   0.596212      -0.332265   \n",
      "102  2.329362 -1.132649   -0.681317   0.596212      -0.332265   \n",
      "\n",
      "     ApplicantIncome  CoapplicantIncome  LoanAmount  Loan_Amount_Term  \\\n",
      "349        -0.120084          -0.508884   -0.804997          0.320179   \n",
      "328        -0.385124          -0.508884   -1.259763         -2.451021   \n",
      "33         -0.222735           0.178729   -0.135480          0.320179   \n",
      "429         0.395795           1.600464    4.235330          0.320179   \n",
      "354         0.172279          -0.508884   -0.501819          0.320179   \n",
      "..               ...                ...         ...               ...   \n",
      "71         -0.445171           0.114560   -0.514452          0.320179   \n",
      "106         2.843211          -0.508884    2.845766          0.320179   \n",
      "270        -0.378023          -0.508884   -0.590246          0.320179   \n",
      "435        -0.170252          -0.508884   -0.564981          0.320179   \n",
      "102        -0.501204           2.134424   -0.097583          0.320179   \n",
      "\n",
      "     Credit_History  Property_Area  \n",
      "349        0.622896      -1.217335  \n",
      "328       -1.605403       1.327335  \n",
      "33         0.622896       0.055000  \n",
      "429        0.622896      -1.217335  \n",
      "354       -1.605403      -1.217335  \n",
      "..              ...            ...  \n",
      "71         0.622896       0.055000  \n",
      "106        0.622896      -1.217335  \n",
      "270        0.622896       0.055000  \n",
      "435        0.622896       1.327335  \n",
      "102       -1.605403       0.055000  \n",
      "\n",
      "[464 rows x 11 columns]\n"
     ]
    }
   ],
   "source": [
    "print(x_train)"
   ]
  },
  {
   "cell_type": "code",
   "execution_count": 30,
   "id": "bd70d3b1",
   "metadata": {},
   "outputs": [
    {
     "name": "stdout",
     "output_type": "stream",
     "text": [
      "       Gender   Married  Dependents  Education  Self_Employed  \\\n",
      "381 -0.429302  0.882886   -0.681317   0.596212      -0.332265   \n",
      "666 -0.429302 -1.132649   -0.681317  -1.677256      -0.332265   \n",
      "257 -0.429302  0.882886    1.487645   0.596212       3.009646   \n",
      "338 -0.429302  0.882886   -0.681317  -1.677256      -0.332265   \n",
      "319 -0.429302  0.882886    2.572126   0.596212      -0.332265   \n",
      "..        ...       ...         ...        ...            ...   \n",
      "648 -0.429302 -1.132649   -0.681317  -1.677256      -0.332265   \n",
      "271 -0.429302 -1.132649   -0.681317   0.596212      -0.332265   \n",
      "494 -0.429302  0.882886    2.572126   0.596212      -0.332265   \n",
      "286 -0.429302  0.882886    2.572126   0.596212      -0.332265   \n",
      "137 -0.429302  0.882886   -0.681317   0.596212      -0.332265   \n",
      "\n",
      "     ApplicantIncome  CoapplicantIncome  LoanAmount  Loan_Amount_Term  \\\n",
      "381         1.745540          -0.508884   -0.438657          0.320179   \n",
      "666        -0.242184          -0.115037   -0.438657          0.320179   \n",
      "257         0.055889          -0.508884   -0.009156         -3.928995   \n",
      "338         0.109916          -0.508884    0.925642          0.320179   \n",
      "319         0.635983          -0.508884    1.645688          0.320179   \n",
      "..               ...                ...         ...               ...   \n",
      "648        -0.457674           0.089539   -0.173377          0.320179   \n",
      "271        -0.393768          -0.508884   -0.931321          0.320179   \n",
      "494        -0.197265          -0.508884   -1.322925         -2.451021   \n",
      "286        -0.419547           0.104257   -0.628143          0.320179   \n",
      "137        -0.454587           0.472201   -0.198642          0.320179   \n",
      "\n",
      "     Credit_History  Property_Area  \n",
      "381        0.622896       0.055000  \n",
      "666        0.622896      -1.217335  \n",
      "257        0.622896      -1.217335  \n",
      "338       -1.605403      -1.217335  \n",
      "319        0.622896      -1.217335  \n",
      "..              ...            ...  \n",
      "648       -1.605403       1.327335  \n",
      "271        0.622896       1.327335  \n",
      "494        0.622896      -1.217335  \n",
      "286        0.622896      -1.217335  \n",
      "137        0.622896      -1.217335  \n",
      "\n",
      "[230 rows x 11 columns]\n"
     ]
    }
   ],
   "source": [
    "print(x_test)"
   ]
  },
  {
   "cell_type": "code",
   "execution_count": 31,
   "id": "25c1d76e",
   "metadata": {},
   "outputs": [
    {
     "name": "stdout",
     "output_type": "stream",
     "text": [
      "349    0\n",
      "328    0\n",
      "33     1\n",
      "429    1\n",
      "354    0\n",
      "      ..\n",
      "71     1\n",
      "106    1\n",
      "270    1\n",
      "435    1\n",
      "102    1\n",
      "Name: Loan_Status, Length: 464, dtype: int64\n"
     ]
    }
   ],
   "source": [
    "print(y_train)"
   ]
  },
  {
   "cell_type": "code",
   "execution_count": 32,
   "id": "760f8c0f",
   "metadata": {},
   "outputs": [
    {
     "name": "stdout",
     "output_type": "stream",
     "text": [
      "381    1\n",
      "666    0\n",
      "257    1\n",
      "338    0\n",
      "319    1\n",
      "      ..\n",
      "648    0\n",
      "271    1\n",
      "494    1\n",
      "286    1\n",
      "137    1\n",
      "Name: Loan_Status, Length: 230, dtype: int64\n"
     ]
    }
   ],
   "source": [
    "print(y_test)"
   ]
  },
  {
   "cell_type": "markdown",
   "id": "1834c01a",
   "metadata": {},
   "source": [
    "#### Model Building"
   ]
  },
  {
   "cell_type": "markdown",
   "id": "df42b185",
   "metadata": {},
   "source": [
    "#### RandomForest model"
   ]
  },
  {
   "cell_type": "code",
   "execution_count": 33,
   "id": "72631d11",
   "metadata": {},
   "outputs": [],
   "source": [
    "from tensorflow.keras import Model\n",
    "def RandomForest(x_train,x_test,y_train,y_test):\n",
    "  model = RandomForestClassifier()\n",
    "  model.fit(x_train,y_train)\n",
    "  y_tr = model.predict(x_train)\n",
    "  print(accuracy_score(y_tr,y_train))\n",
    "  yPred = model.predict(x_test)\n",
    "  print(accuracy_score(yPred,y_test))"
   ]
  },
  {
   "cell_type": "code",
   "execution_count": 34,
   "id": "23973a14",
   "metadata": {},
   "outputs": [
    {
     "name": "stdout",
     "output_type": "stream",
     "text": [
      "1.0\n",
      "0.808695652173913\n"
     ]
    }
   ],
   "source": [
    "RandomForest(x_train,x_test,y_train,y_test)"
   ]
  },
  {
   "cell_type": "markdown",
   "id": "96e56337",
   "metadata": {},
   "source": [
    "#### DecisionTree model"
   ]
  },
  {
   "cell_type": "code",
   "execution_count": 35,
   "id": "5667c2b1",
   "metadata": {},
   "outputs": [],
   "source": [
    "def decisionTree(x_train,x_test,y_train,y_test):\n",
    " model = DecisionTreeClassifier()\n",
    " model.fit(x_train,y_train)\n",
    " y_tr = model.predict(x_train)\n",
    " print(accuracy_score(y_tr,y_train))\n",
    " yPred = model.predict(x_test)\n",
    " print(accuracy_score(yPred,y_test))"
   ]
  },
  {
   "cell_type": "code",
   "execution_count": 36,
   "id": "0cb4e05e",
   "metadata": {},
   "outputs": [
    {
     "name": "stdout",
     "output_type": "stream",
     "text": [
      "1.0\n",
      "0.8\n"
     ]
    }
   ],
   "source": [
    "decisionTree(x_train,x_test,y_train,y_test)"
   ]
  },
  {
   "cell_type": "markdown",
   "id": "4219214c",
   "metadata": {},
   "source": [
    "#### KNN Model"
   ]
  },
  {
   "cell_type": "code",
   "execution_count": 37,
   "id": "ff9cf1ac",
   "metadata": {},
   "outputs": [],
   "source": [
    "def KNN(x_train,x_test,y_train,y_test):\n",
    "  model = KNeighborsClassifier()\n",
    "  model.fit(x_train,y_train)\n",
    "  y_tr = model.predict(x_train)\n",
    "  print(accuracy_score(y_tr,y_train))\n",
    "  yPred = model.predict(x_test)\n",
    "  print(accuracy_score(yPred,y_test))"
   ]
  },
  {
   "cell_type": "code",
   "execution_count": 38,
   "id": "16004f90",
   "metadata": {},
   "outputs": [
    {
     "name": "stdout",
     "output_type": "stream",
     "text": [
      "0.8297413793103449\n",
      "0.7521739130434782\n"
     ]
    }
   ],
   "source": [
    "KNN(x_train,x_test,y_train,y_test)"
   ]
  },
  {
   "cell_type": "markdown",
   "id": "8fba5eeb",
   "metadata": {},
   "source": [
    "#### XGB Model"
   ]
  },
  {
   "cell_type": "code",
   "execution_count": 39,
   "id": "c1a6bb1d",
   "metadata": {},
   "outputs": [],
   "source": [
    "#XGB model\n",
    "def XGB(x_train,x_test,y_train,y_test):\n",
    "  model = GradientBoostingClassifier()\n",
    "  model.fit(x_train,y_train)\n",
    "  y_tr = model.predict(x_train)\n",
    "  print(accuracy_score(y_tr,y_train))\n",
    "  yPred = model.predict(x_test)\n",
    "  print(accuracy_score(yPred,y_test))"
   ]
  },
  {
   "cell_type": "code",
   "execution_count": 40,
   "id": "545e3a8e",
   "metadata": {},
   "outputs": [
    {
     "name": "stdout",
     "output_type": "stream",
     "text": [
      "0.9267241379310345\n",
      "0.7956521739130434\n"
     ]
    }
   ],
   "source": [
    "XGB(x_train,x_test,y_train,y_test)"
   ]
  },
  {
   "cell_type": "code",
   "execution_count": 41,
   "id": "9279e134",
   "metadata": {},
   "outputs": [
    {
     "name": "stdout",
     "output_type": "stream",
     "text": [
      "Epoch 1/100\n",
      "4/4 [==============================] - 1s 120ms/step - loss: 0.6789 - accuracy: 0.5876 - val_loss: 0.6803 - val_accuracy: 0.4946\n",
      "Epoch 2/100\n",
      "4/4 [==============================] - 0s 13ms/step - loss: 0.6332 - accuracy: 0.6846 - val_loss: 0.6438 - val_accuracy: 0.5699\n",
      "Epoch 3/100\n",
      "4/4 [==============================] - 0s 15ms/step - loss: 0.5956 - accuracy: 0.7547 - val_loss: 0.6147 - val_accuracy: 0.6882\n",
      "Epoch 4/100\n",
      "4/4 [==============================] - 0s 12ms/step - loss: 0.5625 - accuracy: 0.7817 - val_loss: 0.5912 - val_accuracy: 0.7097\n",
      "Epoch 5/100\n",
      "4/4 [==============================] - 0s 13ms/step - loss: 0.5325 - accuracy: 0.7898 - val_loss: 0.5688 - val_accuracy: 0.7204\n",
      "Epoch 6/100\n",
      "4/4 [==============================] - 0s 12ms/step - loss: 0.5061 - accuracy: 0.7898 - val_loss: 0.5479 - val_accuracy: 0.7204\n",
      "Epoch 7/100\n",
      "4/4 [==============================] - 0s 13ms/step - loss: 0.4850 - accuracy: 0.7898 - val_loss: 0.5326 - val_accuracy: 0.7204\n",
      "Epoch 8/100\n",
      "4/4 [==============================] - 0s 12ms/step - loss: 0.4652 - accuracy: 0.7951 - val_loss: 0.5202 - val_accuracy: 0.7312\n",
      "Epoch 9/100\n",
      "4/4 [==============================] - 0s 13ms/step - loss: 0.4487 - accuracy: 0.7978 - val_loss: 0.5136 - val_accuracy: 0.7419\n",
      "Epoch 10/100\n",
      "4/4 [==============================] - 0s 15ms/step - loss: 0.4339 - accuracy: 0.8005 - val_loss: 0.5083 - val_accuracy: 0.7634\n",
      "Epoch 11/100\n",
      "4/4 [==============================] - 0s 12ms/step - loss: 0.4224 - accuracy: 0.8005 - val_loss: 0.5048 - val_accuracy: 0.7742\n",
      "Epoch 12/100\n",
      "4/4 [==============================] - 0s 13ms/step - loss: 0.4118 - accuracy: 0.8059 - val_loss: 0.5010 - val_accuracy: 0.7742\n",
      "Epoch 13/100\n",
      "4/4 [==============================] - 0s 12ms/step - loss: 0.4051 - accuracy: 0.8005 - val_loss: 0.4935 - val_accuracy: 0.7634\n",
      "Epoch 14/100\n",
      "4/4 [==============================] - 0s 13ms/step - loss: 0.3981 - accuracy: 0.8086 - val_loss: 0.4932 - val_accuracy: 0.7634\n",
      "Epoch 15/100\n",
      "4/4 [==============================] - 0s 11ms/step - loss: 0.3915 - accuracy: 0.8194 - val_loss: 0.4914 - val_accuracy: 0.7742\n",
      "Epoch 16/100\n",
      "4/4 [==============================] - 0s 16ms/step - loss: 0.3861 - accuracy: 0.8194 - val_loss: 0.4912 - val_accuracy: 0.7957\n",
      "Epoch 17/100\n",
      "4/4 [==============================] - 0s 12ms/step - loss: 0.3813 - accuracy: 0.8302 - val_loss: 0.4907 - val_accuracy: 0.8065\n",
      "Epoch 18/100\n",
      "4/4 [==============================] - 0s 13ms/step - loss: 0.3780 - accuracy: 0.8275 - val_loss: 0.4911 - val_accuracy: 0.8065\n",
      "Epoch 19/100\n",
      "4/4 [==============================] - 0s 14ms/step - loss: 0.3729 - accuracy: 0.8329 - val_loss: 0.4850 - val_accuracy: 0.7849\n",
      "Epoch 20/100\n",
      "4/4 [==============================] - 0s 12ms/step - loss: 0.3697 - accuracy: 0.8302 - val_loss: 0.4793 - val_accuracy: 0.7957\n",
      "Epoch 21/100\n",
      "4/4 [==============================] - 0s 15ms/step - loss: 0.3657 - accuracy: 0.8356 - val_loss: 0.4802 - val_accuracy: 0.7957\n",
      "Epoch 22/100\n",
      "4/4 [==============================] - 0s 14ms/step - loss: 0.3623 - accuracy: 0.8410 - val_loss: 0.4825 - val_accuracy: 0.8065\n",
      "Epoch 23/100\n",
      "4/4 [==============================] - 0s 15ms/step - loss: 0.3587 - accuracy: 0.8410 - val_loss: 0.4839 - val_accuracy: 0.8065\n",
      "Epoch 24/100\n",
      "4/4 [==============================] - 0s 12ms/step - loss: 0.3556 - accuracy: 0.8410 - val_loss: 0.4808 - val_accuracy: 0.8065\n",
      "Epoch 25/100\n",
      "4/4 [==============================] - 0s 12ms/step - loss: 0.3522 - accuracy: 0.8383 - val_loss: 0.4792 - val_accuracy: 0.8065\n",
      "Epoch 26/100\n",
      "4/4 [==============================] - 0s 15ms/step - loss: 0.3490 - accuracy: 0.8410 - val_loss: 0.4772 - val_accuracy: 0.8065\n",
      "Epoch 27/100\n",
      "4/4 [==============================] - 0s 11ms/step - loss: 0.3462 - accuracy: 0.8491 - val_loss: 0.4768 - val_accuracy: 0.8065\n",
      "Epoch 28/100\n",
      "4/4 [==============================] - 0s 16ms/step - loss: 0.3433 - accuracy: 0.8518 - val_loss: 0.4799 - val_accuracy: 0.8065\n",
      "Epoch 29/100\n",
      "4/4 [==============================] - 0s 12ms/step - loss: 0.3404 - accuracy: 0.8625 - val_loss: 0.4790 - val_accuracy: 0.8065\n",
      "Epoch 30/100\n",
      "4/4 [==============================] - 0s 12ms/step - loss: 0.3374 - accuracy: 0.8518 - val_loss: 0.4761 - val_accuracy: 0.8065\n",
      "Epoch 31/100\n",
      "4/4 [==============================] - 0s 12ms/step - loss: 0.3348 - accuracy: 0.8544 - val_loss: 0.4756 - val_accuracy: 0.8065\n",
      "Epoch 32/100\n",
      "4/4 [==============================] - 0s 12ms/step - loss: 0.3322 - accuracy: 0.8598 - val_loss: 0.4762 - val_accuracy: 0.8065\n",
      "Epoch 33/100\n",
      "4/4 [==============================] - 0s 16ms/step - loss: 0.3298 - accuracy: 0.8625 - val_loss: 0.4781 - val_accuracy: 0.8065\n",
      "Epoch 34/100\n",
      "4/4 [==============================] - 0s 12ms/step - loss: 0.3270 - accuracy: 0.8598 - val_loss: 0.4761 - val_accuracy: 0.7957\n",
      "Epoch 35/100\n",
      "4/4 [==============================] - 0s 13ms/step - loss: 0.3244 - accuracy: 0.8625 - val_loss: 0.4732 - val_accuracy: 0.7957\n",
      "Epoch 36/100\n",
      "4/4 [==============================] - 0s 12ms/step - loss: 0.3221 - accuracy: 0.8625 - val_loss: 0.4720 - val_accuracy: 0.8065\n",
      "Epoch 37/100\n",
      "4/4 [==============================] - 0s 13ms/step - loss: 0.3197 - accuracy: 0.8571 - val_loss: 0.4747 - val_accuracy: 0.8065\n",
      "Epoch 38/100\n",
      "4/4 [==============================] - 0s 12ms/step - loss: 0.3174 - accuracy: 0.8625 - val_loss: 0.4768 - val_accuracy: 0.8065\n",
      "Epoch 39/100\n",
      "4/4 [==============================] - 0s 13ms/step - loss: 0.3147 - accuracy: 0.8652 - val_loss: 0.4730 - val_accuracy: 0.8065\n",
      "Epoch 40/100\n",
      "4/4 [==============================] - 0s 12ms/step - loss: 0.3121 - accuracy: 0.8652 - val_loss: 0.4747 - val_accuracy: 0.8065\n",
      "Epoch 41/100\n",
      "4/4 [==============================] - 0s 12ms/step - loss: 0.3099 - accuracy: 0.8679 - val_loss: 0.4729 - val_accuracy: 0.8065\n",
      "Epoch 42/100\n",
      "4/4 [==============================] - 0s 12ms/step - loss: 0.3083 - accuracy: 0.8571 - val_loss: 0.4716 - val_accuracy: 0.8065\n",
      "Epoch 43/100\n",
      "4/4 [==============================] - 0s 13ms/step - loss: 0.3052 - accuracy: 0.8625 - val_loss: 0.4800 - val_accuracy: 0.7849\n",
      "Epoch 44/100\n",
      "4/4 [==============================] - 0s 12ms/step - loss: 0.3034 - accuracy: 0.8625 - val_loss: 0.4788 - val_accuracy: 0.7849\n",
      "Epoch 45/100\n",
      "4/4 [==============================] - 0s 13ms/step - loss: 0.3009 - accuracy: 0.8679 - val_loss: 0.4795 - val_accuracy: 0.7849\n",
      "Epoch 46/100\n",
      "4/4 [==============================] - 0s 11ms/step - loss: 0.2992 - accuracy: 0.8652 - val_loss: 0.4817 - val_accuracy: 0.7849\n",
      "Epoch 47/100\n",
      "4/4 [==============================] - 0s 16ms/step - loss: 0.2970 - accuracy: 0.8706 - val_loss: 0.4730 - val_accuracy: 0.7957\n",
      "Epoch 48/100\n",
      "4/4 [==============================] - 0s 12ms/step - loss: 0.2947 - accuracy: 0.8652 - val_loss: 0.4765 - val_accuracy: 0.7849\n",
      "Epoch 49/100\n",
      "4/4 [==============================] - 0s 13ms/step - loss: 0.2922 - accuracy: 0.8706 - val_loss: 0.4817 - val_accuracy: 0.7849\n",
      "Epoch 50/100\n",
      "4/4 [==============================] - 0s 12ms/step - loss: 0.2905 - accuracy: 0.8706 - val_loss: 0.4792 - val_accuracy: 0.7849\n",
      "Epoch 51/100\n",
      "4/4 [==============================] - 0s 13ms/step - loss: 0.2884 - accuracy: 0.8679 - val_loss: 0.4782 - val_accuracy: 0.7849\n",
      "Epoch 52/100\n",
      "4/4 [==============================] - 0s 15ms/step - loss: 0.2858 - accuracy: 0.8706 - val_loss: 0.4782 - val_accuracy: 0.7957\n",
      "Epoch 53/100\n",
      "4/4 [==============================] - 0s 12ms/step - loss: 0.2839 - accuracy: 0.8679 - val_loss: 0.4862 - val_accuracy: 0.7849\n",
      "Epoch 54/100\n",
      "4/4 [==============================] - 0s 12ms/step - loss: 0.2820 - accuracy: 0.8814 - val_loss: 0.4863 - val_accuracy: 0.7849\n",
      "Epoch 55/100\n",
      "4/4 [==============================] - 0s 17ms/step - loss: 0.2803 - accuracy: 0.8679 - val_loss: 0.4805 - val_accuracy: 0.7849\n",
      "Epoch 56/100\n",
      "4/4 [==============================] - 0s 12ms/step - loss: 0.2780 - accuracy: 0.8733 - val_loss: 0.4829 - val_accuracy: 0.7849\n",
      "Epoch 57/100\n",
      "4/4 [==============================] - 0s 13ms/step - loss: 0.2759 - accuracy: 0.8733 - val_loss: 0.4848 - val_accuracy: 0.7849\n",
      "Epoch 58/100\n",
      "4/4 [==============================] - 0s 13ms/step - loss: 0.2741 - accuracy: 0.8733 - val_loss: 0.4911 - val_accuracy: 0.7849\n",
      "Epoch 59/100\n",
      "4/4 [==============================] - 0s 15ms/step - loss: 0.2742 - accuracy: 0.8814 - val_loss: 0.4935 - val_accuracy: 0.7742\n",
      "Epoch 60/100\n",
      "4/4 [==============================] - 0s 12ms/step - loss: 0.2700 - accuracy: 0.8895 - val_loss: 0.4840 - val_accuracy: 0.7957\n",
      "Epoch 61/100\n",
      "4/4 [==============================] - 0s 20ms/step - loss: 0.2688 - accuracy: 0.8706 - val_loss: 0.4827 - val_accuracy: 0.7849\n",
      "Epoch 62/100\n",
      "4/4 [==============================] - 0s 15ms/step - loss: 0.2670 - accuracy: 0.8733 - val_loss: 0.4864 - val_accuracy: 0.7849\n",
      "Epoch 63/100\n",
      "4/4 [==============================] - 0s 14ms/step - loss: 0.2646 - accuracy: 0.8814 - val_loss: 0.4897 - val_accuracy: 0.7742\n",
      "Epoch 64/100\n",
      "4/4 [==============================] - 0s 15ms/step - loss: 0.2630 - accuracy: 0.8787 - val_loss: 0.4966 - val_accuracy: 0.7849\n",
      "Epoch 65/100\n",
      "4/4 [==============================] - 0s 13ms/step - loss: 0.2619 - accuracy: 0.8787 - val_loss: 0.4960 - val_accuracy: 0.7849\n",
      "Epoch 66/100\n",
      "4/4 [==============================] - 0s 14ms/step - loss: 0.2605 - accuracy: 0.8868 - val_loss: 0.5066 - val_accuracy: 0.7742\n",
      "Epoch 67/100\n",
      "4/4 [==============================] - 0s 17ms/step - loss: 0.2581 - accuracy: 0.8949 - val_loss: 0.5031 - val_accuracy: 0.7849\n",
      "Epoch 68/100\n",
      "4/4 [==============================] - 0s 14ms/step - loss: 0.2565 - accuracy: 0.8814 - val_loss: 0.4950 - val_accuracy: 0.7742\n",
      "Epoch 69/100\n",
      "4/4 [==============================] - 0s 15ms/step - loss: 0.2540 - accuracy: 0.8814 - val_loss: 0.4999 - val_accuracy: 0.7742\n",
      "Epoch 70/100\n",
      "4/4 [==============================] - 0s 16ms/step - loss: 0.2520 - accuracy: 0.8922 - val_loss: 0.5124 - val_accuracy: 0.7527\n",
      "Epoch 71/100\n",
      "4/4 [==============================] - 0s 11ms/step - loss: 0.2512 - accuracy: 0.8976 - val_loss: 0.5122 - val_accuracy: 0.7527\n",
      "Epoch 72/100\n",
      "4/4 [==============================] - 0s 13ms/step - loss: 0.2491 - accuracy: 0.8976 - val_loss: 0.5100 - val_accuracy: 0.7634\n",
      "Epoch 73/100\n",
      "4/4 [==============================] - 0s 13ms/step - loss: 0.2472 - accuracy: 0.8949 - val_loss: 0.5063 - val_accuracy: 0.7742\n",
      "Epoch 74/100\n",
      "4/4 [==============================] - 0s 10ms/step - loss: 0.2452 - accuracy: 0.8895 - val_loss: 0.5099 - val_accuracy: 0.7634\n",
      "Epoch 75/100\n",
      "4/4 [==============================] - 0s 11ms/step - loss: 0.2440 - accuracy: 0.8841 - val_loss: 0.5078 - val_accuracy: 0.7742\n",
      "Epoch 76/100\n",
      "4/4 [==============================] - 0s 11ms/step - loss: 0.2420 - accuracy: 0.8976 - val_loss: 0.5152 - val_accuracy: 0.7527\n",
      "Epoch 77/100\n",
      "4/4 [==============================] - 0s 13ms/step - loss: 0.2404 - accuracy: 0.8976 - val_loss: 0.5137 - val_accuracy: 0.7742\n",
      "Epoch 78/100\n",
      "4/4 [==============================] - 0s 17ms/step - loss: 0.2398 - accuracy: 0.8922 - val_loss: 0.5104 - val_accuracy: 0.7742\n",
      "Epoch 79/100\n",
      "4/4 [==============================] - 0s 16ms/step - loss: 0.2374 - accuracy: 0.8976 - val_loss: 0.5100 - val_accuracy: 0.7849\n",
      "Epoch 80/100\n",
      "4/4 [==============================] - 0s 18ms/step - loss: 0.2360 - accuracy: 0.8949 - val_loss: 0.5193 - val_accuracy: 0.7634\n",
      "Epoch 81/100\n",
      "4/4 [==============================] - 0s 13ms/step - loss: 0.2344 - accuracy: 0.9003 - val_loss: 0.5242 - val_accuracy: 0.7527\n",
      "Epoch 82/100\n",
      "4/4 [==============================] - 0s 12ms/step - loss: 0.2322 - accuracy: 0.9030 - val_loss: 0.5206 - val_accuracy: 0.7742\n",
      "Epoch 83/100\n",
      "4/4 [==============================] - 0s 12ms/step - loss: 0.2306 - accuracy: 0.8976 - val_loss: 0.5212 - val_accuracy: 0.7849\n",
      "Epoch 84/100\n",
      "4/4 [==============================] - 0s 17ms/step - loss: 0.2292 - accuracy: 0.9057 - val_loss: 0.5244 - val_accuracy: 0.7849\n",
      "Epoch 85/100\n",
      "4/4 [==============================] - 0s 10ms/step - loss: 0.2284 - accuracy: 0.9084 - val_loss: 0.5296 - val_accuracy: 0.7849\n",
      "Epoch 86/100\n",
      "4/4 [==============================] - 0s 17ms/step - loss: 0.2264 - accuracy: 0.9137 - val_loss: 0.5230 - val_accuracy: 0.7849\n",
      "Epoch 87/100\n",
      "4/4 [==============================] - 0s 11ms/step - loss: 0.2249 - accuracy: 0.9111 - val_loss: 0.5366 - val_accuracy: 0.7634\n",
      "Epoch 88/100\n",
      "4/4 [==============================] - 0s 11ms/step - loss: 0.2229 - accuracy: 0.9111 - val_loss: 0.5394 - val_accuracy: 0.7634\n",
      "Epoch 89/100\n",
      "4/4 [==============================] - 0s 16ms/step - loss: 0.2217 - accuracy: 0.9057 - val_loss: 0.5308 - val_accuracy: 0.7849\n",
      "Epoch 90/100\n",
      "4/4 [==============================] - 0s 12ms/step - loss: 0.2204 - accuracy: 0.9057 - val_loss: 0.5371 - val_accuracy: 0.7849\n",
      "Epoch 91/100\n",
      "4/4 [==============================] - 0s 12ms/step - loss: 0.2187 - accuracy: 0.9084 - val_loss: 0.5459 - val_accuracy: 0.7527\n",
      "Epoch 92/100\n",
      "4/4 [==============================] - 0s 16ms/step - loss: 0.2173 - accuracy: 0.9164 - val_loss: 0.5415 - val_accuracy: 0.7849\n",
      "Epoch 93/100\n",
      "4/4 [==============================] - 0s 11ms/step - loss: 0.2157 - accuracy: 0.9218 - val_loss: 0.5426 - val_accuracy: 0.7849\n",
      "Epoch 94/100\n",
      "4/4 [==============================] - 0s 12ms/step - loss: 0.2139 - accuracy: 0.9191 - val_loss: 0.5464 - val_accuracy: 0.7742\n",
      "Epoch 95/100\n",
      "4/4 [==============================] - 0s 16ms/step - loss: 0.2129 - accuracy: 0.9164 - val_loss: 0.5555 - val_accuracy: 0.7742\n",
      "Epoch 96/100\n",
      "4/4 [==============================] - 0s 11ms/step - loss: 0.2122 - accuracy: 0.9137 - val_loss: 0.5556 - val_accuracy: 0.7957\n",
      "Epoch 97/100\n",
      "4/4 [==============================] - 0s 17ms/step - loss: 0.2095 - accuracy: 0.9111 - val_loss: 0.5509 - val_accuracy: 0.7849\n",
      "Epoch 98/100\n",
      "4/4 [==============================] - 0s 15ms/step - loss: 0.2084 - accuracy: 0.9137 - val_loss: 0.5577 - val_accuracy: 0.7849\n",
      "Epoch 99/100\n",
      "4/4 [==============================] - 0s 11ms/step - loss: 0.2072 - accuracy: 0.9191 - val_loss: 0.5604 - val_accuracy: 0.7849\n",
      "Epoch 100/100\n",
      "4/4 [==============================] - 0s 17ms/step - loss: 0.2054 - accuracy: 0.9218 - val_loss: 0.5700 - val_accuracy: 0.7742\n"
     ]
    },
    {
     "data": {
      "text/plain": [
       "<keras.callbacks.History at 0x21c38088fd0>"
      ]
     },
     "execution_count": 41,
     "metadata": {},
     "output_type": "execute_result"
    }
   ],
   "source": [
    "import tensorflow\n",
    "from tensorflow.keras.models import Sequential\n",
    "from tensorflow.keras.layers import Dense\n",
    "classifier = Sequential()\n",
    "classifier.add(Dense(units=100, activation='relu', input_dim=11))\n",
    "classifier.add(Dense(units=50, activation='relu'))\n",
    "classifier.add(Dense(units=1, activation='sigmoid'))\n",
    "classifier.compile(optimizer='adam', loss='binary_crossentropy', metrics=['accuracy'])\n",
    "classifier.fit(x_train,y_train,batch_size=100, validation_split=0.2, epochs=100)"
   ]
  },
  {
   "cell_type": "code",
   "execution_count": 42,
   "id": "7e3061b3",
   "metadata": {},
   "outputs": [
    {
     "name": "stdout",
     "output_type": "stream",
     "text": [
      "8/8 [==============================] - 0s 1ms/step\n"
     ]
    }
   ],
   "source": [
    "y_pred = classifier.predict(x_test)"
   ]
  },
  {
   "cell_type": "code",
   "execution_count": 43,
   "id": "d6f4b5a8",
   "metadata": {},
   "outputs": [
    {
     "data": {
      "text/plain": [
       "array([[6.57985866e-01],\n",
       "       [6.46967232e-01],\n",
       "       [9.98519182e-01],\n",
       "       [8.07339291e-07],\n",
       "       [3.94056708e-01],\n",
       "       [6.14007823e-02],\n",
       "       [3.44176650e-01],\n",
       "       [4.98121589e-01],\n",
       "       [5.06099354e-07],\n",
       "       [2.95984179e-01],\n",
       "       [9.66010749e-01],\n",
       "       [4.17322099e-01],\n",
       "       [5.81493229e-02],\n",
       "       [4.23612222e-02],\n",
       "       [9.94167626e-01],\n",
       "       [9.05420005e-01],\n",
       "       [9.78730857e-01],\n",
       "       [1.11984391e-05],\n",
       "       [8.27317243e-04],\n",
       "       [2.69443663e-05],\n",
       "       [6.33708000e-01],\n",
       "       [5.30525088e-01],\n",
       "       [9.67998326e-01],\n",
       "       [9.41083014e-01],\n",
       "       [7.30698157e-05],\n",
       "       [1.92857951e-01],\n",
       "       [9.11767304e-01],\n",
       "       [3.87267534e-07],\n",
       "       [6.45809829e-01],\n",
       "       [8.78498375e-01],\n",
       "       [9.24025893e-01],\n",
       "       [1.15657446e-03],\n",
       "       [4.07566071e-01],\n",
       "       [3.69667590e-01],\n",
       "       [8.02358426e-03],\n",
       "       [6.80389881e-01],\n",
       "       [1.60987757e-03],\n",
       "       [3.28999772e-06],\n",
       "       [9.55391884e-01],\n",
       "       [3.87716651e-01],\n",
       "       [1.31347479e-05],\n",
       "       [2.06822321e-01],\n",
       "       [9.96299386e-01],\n",
       "       [6.20687425e-01],\n",
       "       [8.00300541e-07],\n",
       "       [2.30703939e-04],\n",
       "       [4.67444286e-02],\n",
       "       [2.28238747e-07],\n",
       "       [9.89524305e-01],\n",
       "       [9.69717264e-01],\n",
       "       [8.27172637e-01],\n",
       "       [5.88496029e-02],\n",
       "       [9.98923779e-01],\n",
       "       [5.73943675e-01],\n",
       "       [4.80162978e-01],\n",
       "       [8.12771499e-01],\n",
       "       [6.25194571e-06],\n",
       "       [3.40005704e-06],\n",
       "       [1.34431984e-05],\n",
       "       [2.20467427e-07],\n",
       "       [4.34664190e-01],\n",
       "       [9.89430249e-01],\n",
       "       [4.56980281e-02],\n",
       "       [3.49934250e-01],\n",
       "       [6.11427822e-07],\n",
       "       [2.11930163e-02],\n",
       "       [2.74206460e-01],\n",
       "       [7.19951510e-01],\n",
       "       [9.97013152e-01],\n",
       "       [8.64676595e-01],\n",
       "       [7.73820579e-01],\n",
       "       [9.53307629e-01],\n",
       "       [6.30285963e-02],\n",
       "       [7.15687349e-02],\n",
       "       [1.95382116e-03],\n",
       "       [1.04599493e-03],\n",
       "       [4.31444012e-02],\n",
       "       [1.51654138e-04],\n",
       "       [7.87122667e-01],\n",
       "       [1.82445165e-05],\n",
       "       [8.69196296e-01],\n",
       "       [2.15711945e-04],\n",
       "       [7.72575788e-07],\n",
       "       [1.63404479e-06],\n",
       "       [7.06500709e-01],\n",
       "       [9.93388474e-01],\n",
       "       [5.99607885e-01],\n",
       "       [4.32773784e-04],\n",
       "       [7.88612306e-01],\n",
       "       [5.47471762e-01],\n",
       "       [3.24351131e-04],\n",
       "       [5.65441549e-01],\n",
       "       [9.34469402e-01],\n",
       "       [9.35860153e-05],\n",
       "       [6.19845629e-01],\n",
       "       [4.89570439e-01],\n",
       "       [9.00894284e-01],\n",
       "       [1.88210270e-05],\n",
       "       [8.28570724e-01],\n",
       "       [4.53764596e-06],\n",
       "       [6.20540135e-08],\n",
       "       [8.77746701e-01],\n",
       "       [8.66262376e-01],\n",
       "       [7.52062425e-02],\n",
       "       [9.86326277e-01],\n",
       "       [9.98763502e-01],\n",
       "       [6.19011343e-01],\n",
       "       [8.97940814e-01],\n",
       "       [6.22894347e-01],\n",
       "       [7.27584481e-01],\n",
       "       [6.24638119e-08],\n",
       "       [9.52435136e-01],\n",
       "       [8.82112026e-01],\n",
       "       [7.29289353e-01],\n",
       "       [4.32089949e-03],\n",
       "       [5.58024086e-02],\n",
       "       [5.95832646e-01],\n",
       "       [9.38670337e-01],\n",
       "       [1.37483485e-05],\n",
       "       [8.93394232e-01],\n",
       "       [8.64996612e-01],\n",
       "       [3.21649462e-01],\n",
       "       [8.50767940e-02],\n",
       "       [4.37635254e-06],\n",
       "       [6.71423435e-01],\n",
       "       [6.10071301e-01],\n",
       "       [5.46844959e-01],\n",
       "       [7.11054146e-01],\n",
       "       [2.19403103e-01],\n",
       "       [8.99699688e-01],\n",
       "       [1.82236567e-01],\n",
       "       [1.16198851e-06],\n",
       "       [9.93893206e-01],\n",
       "       [2.06347158e-05],\n",
       "       [1.10308880e-04],\n",
       "       [8.14997435e-01],\n",
       "       [3.61471951e-01],\n",
       "       [1.33285226e-04],\n",
       "       [2.27712661e-01],\n",
       "       [6.98621988e-01],\n",
       "       [6.43842280e-01],\n",
       "       [1.98711379e-04],\n",
       "       [6.39399588e-01],\n",
       "       [1.12255837e-03],\n",
       "       [4.39019233e-01],\n",
       "       [1.43732890e-04],\n",
       "       [7.21679449e-01],\n",
       "       [6.78505480e-01],\n",
       "       [5.48153043e-01],\n",
       "       [9.08541799e-01],\n",
       "       [2.93639780e-04],\n",
       "       [3.50571781e-01],\n",
       "       [1.72216169e-05],\n",
       "       [9.98369753e-01],\n",
       "       [6.64662004e-01],\n",
       "       [9.46140826e-01],\n",
       "       [9.18660104e-01],\n",
       "       [6.17133319e-01],\n",
       "       [5.87683916e-02],\n",
       "       [6.81675375e-01],\n",
       "       [5.68519354e-05],\n",
       "       [7.91565001e-01],\n",
       "       [8.57195318e-01],\n",
       "       [2.28253141e-01],\n",
       "       [7.75060654e-01],\n",
       "       [8.43920290e-01],\n",
       "       [9.98050213e-01],\n",
       "       [1.14259619e-05],\n",
       "       [6.49135411e-01],\n",
       "       [9.57402050e-01],\n",
       "       [1.40129865e-04],\n",
       "       [6.74148276e-02],\n",
       "       [8.17227602e-01],\n",
       "       [3.62509519e-01],\n",
       "       [3.23706865e-01],\n",
       "       [5.75711370e-01],\n",
       "       [4.86294766e-06],\n",
       "       [1.49915286e-04],\n",
       "       [5.24407142e-06],\n",
       "       [9.97599959e-01],\n",
       "       [5.42154203e-06],\n",
       "       [2.05636069e-01],\n",
       "       [9.81499910e-01],\n",
       "       [9.24434125e-01],\n",
       "       [9.25830424e-01],\n",
       "       [8.88634562e-01],\n",
       "       [5.27099133e-01],\n",
       "       [6.06903553e-01],\n",
       "       [1.57455221e-01],\n",
       "       [1.95583889e-05],\n",
       "       [3.16453040e-01],\n",
       "       [4.34386032e-03],\n",
       "       [9.97564733e-01],\n",
       "       [2.61364013e-01],\n",
       "       [1.62442327e-02],\n",
       "       [8.63470018e-01],\n",
       "       [7.86547422e-01],\n",
       "       [2.99489230e-01],\n",
       "       [9.21996474e-01],\n",
       "       [7.04657912e-01],\n",
       "       [8.73470902e-01],\n",
       "       [8.86018217e-01],\n",
       "       [6.67641473e-07],\n",
       "       [8.94804716e-01],\n",
       "       [6.91549659e-01],\n",
       "       [3.54614079e-01],\n",
       "       [5.32961858e-04],\n",
       "       [9.57275212e-01],\n",
       "       [8.61819088e-01],\n",
       "       [3.19322437e-01],\n",
       "       [1.67307110e-06],\n",
       "       [8.17494452e-01],\n",
       "       [8.02109718e-01],\n",
       "       [3.34649175e-01],\n",
       "       [7.90799916e-01],\n",
       "       [4.03999184e-06],\n",
       "       [5.48730016e-01],\n",
       "       [3.32784772e-01],\n",
       "       [1.96315050e-01],\n",
       "       [9.99930024e-01],\n",
       "       [8.78415644e-01],\n",
       "       [8.96235585e-01],\n",
       "       [4.38631832e-04],\n",
       "       [6.78923097e-05],\n",
       "       [9.93563712e-01],\n",
       "       [1.99635451e-05],\n",
       "       [4.54351455e-01],\n",
       "       [9.63718653e-01],\n",
       "       [7.65484154e-01],\n",
       "       [8.06814015e-01]], dtype=float32)"
      ]
     },
     "execution_count": 43,
     "metadata": {},
     "output_type": "execute_result"
    }
   ],
   "source": [
    "y_pred"
   ]
  },
  {
   "cell_type": "code",
   "execution_count": 44,
   "id": "03ecaaa3",
   "metadata": {},
   "outputs": [
    {
     "data": {
      "text/plain": [
       "array([[0],\n",
       "       [0],\n",
       "       [0],\n",
       "       [0],\n",
       "       [0],\n",
       "       [0],\n",
       "       [0],\n",
       "       [0],\n",
       "       [0],\n",
       "       [0],\n",
       "       [0],\n",
       "       [0],\n",
       "       [0],\n",
       "       [0],\n",
       "       [0],\n",
       "       [0],\n",
       "       [0],\n",
       "       [0],\n",
       "       [0],\n",
       "       [0],\n",
       "       [0],\n",
       "       [0],\n",
       "       [0],\n",
       "       [0],\n",
       "       [0],\n",
       "       [0],\n",
       "       [0],\n",
       "       [0],\n",
       "       [0],\n",
       "       [0],\n",
       "       [0],\n",
       "       [0],\n",
       "       [0],\n",
       "       [0],\n",
       "       [0],\n",
       "       [0],\n",
       "       [0],\n",
       "       [0],\n",
       "       [0],\n",
       "       [0],\n",
       "       [0],\n",
       "       [0],\n",
       "       [0],\n",
       "       [0],\n",
       "       [0],\n",
       "       [0],\n",
       "       [0],\n",
       "       [0],\n",
       "       [0],\n",
       "       [0],\n",
       "       [0],\n",
       "       [0],\n",
       "       [0],\n",
       "       [0],\n",
       "       [0],\n",
       "       [0],\n",
       "       [0],\n",
       "       [0],\n",
       "       [0],\n",
       "       [0],\n",
       "       [0],\n",
       "       [0],\n",
       "       [0],\n",
       "       [0],\n",
       "       [0],\n",
       "       [0],\n",
       "       [0],\n",
       "       [0],\n",
       "       [0],\n",
       "       [0],\n",
       "       [0],\n",
       "       [0],\n",
       "       [0],\n",
       "       [0],\n",
       "       [0],\n",
       "       [0],\n",
       "       [0],\n",
       "       [0],\n",
       "       [0],\n",
       "       [0],\n",
       "       [0],\n",
       "       [0],\n",
       "       [0],\n",
       "       [0],\n",
       "       [0],\n",
       "       [0],\n",
       "       [0],\n",
       "       [0],\n",
       "       [0],\n",
       "       [0],\n",
       "       [0],\n",
       "       [0],\n",
       "       [0],\n",
       "       [0],\n",
       "       [0],\n",
       "       [0],\n",
       "       [0],\n",
       "       [0],\n",
       "       [0],\n",
       "       [0],\n",
       "       [0],\n",
       "       [0],\n",
       "       [0],\n",
       "       [0],\n",
       "       [0],\n",
       "       [0],\n",
       "       [0],\n",
       "       [0],\n",
       "       [0],\n",
       "       [0],\n",
       "       [0],\n",
       "       [0],\n",
       "       [0],\n",
       "       [0],\n",
       "       [0],\n",
       "       [0],\n",
       "       [0],\n",
       "       [0],\n",
       "       [0],\n",
       "       [0],\n",
       "       [0],\n",
       "       [0],\n",
       "       [0],\n",
       "       [0],\n",
       "       [0],\n",
       "       [0],\n",
       "       [0],\n",
       "       [0],\n",
       "       [0],\n",
       "       [0],\n",
       "       [0],\n",
       "       [0],\n",
       "       [0],\n",
       "       [0],\n",
       "       [0],\n",
       "       [0],\n",
       "       [0],\n",
       "       [0],\n",
       "       [0],\n",
       "       [0],\n",
       "       [0],\n",
       "       [0],\n",
       "       [0],\n",
       "       [0],\n",
       "       [0],\n",
       "       [0],\n",
       "       [0],\n",
       "       [0],\n",
       "       [0],\n",
       "       [0],\n",
       "       [0],\n",
       "       [0],\n",
       "       [0],\n",
       "       [0],\n",
       "       [0],\n",
       "       [0],\n",
       "       [0],\n",
       "       [0],\n",
       "       [0],\n",
       "       [0],\n",
       "       [0],\n",
       "       [0],\n",
       "       [0],\n",
       "       [0],\n",
       "       [0],\n",
       "       [0],\n",
       "       [0],\n",
       "       [0],\n",
       "       [0],\n",
       "       [0],\n",
       "       [0],\n",
       "       [0],\n",
       "       [0],\n",
       "       [0],\n",
       "       [0],\n",
       "       [0],\n",
       "       [0],\n",
       "       [0],\n",
       "       [0],\n",
       "       [0],\n",
       "       [0],\n",
       "       [0],\n",
       "       [0],\n",
       "       [0],\n",
       "       [0],\n",
       "       [0],\n",
       "       [0],\n",
       "       [0],\n",
       "       [0],\n",
       "       [0],\n",
       "       [0],\n",
       "       [0],\n",
       "       [0],\n",
       "       [0],\n",
       "       [0],\n",
       "       [0],\n",
       "       [0],\n",
       "       [0],\n",
       "       [0],\n",
       "       [0],\n",
       "       [0],\n",
       "       [0],\n",
       "       [0],\n",
       "       [0],\n",
       "       [0],\n",
       "       [0],\n",
       "       [0],\n",
       "       [0],\n",
       "       [0],\n",
       "       [0],\n",
       "       [0],\n",
       "       [0],\n",
       "       [0],\n",
       "       [0],\n",
       "       [0],\n",
       "       [0],\n",
       "       [0],\n",
       "       [0],\n",
       "       [0],\n",
       "       [0],\n",
       "       [0],\n",
       "       [0],\n",
       "       [0],\n",
       "       [0],\n",
       "       [0],\n",
       "       [0],\n",
       "       [0],\n",
       "       [0],\n",
       "       [0],\n",
       "       [0]])"
      ]
     },
     "execution_count": 44,
     "metadata": {},
     "output_type": "execute_result"
    }
   ],
   "source": [
    "y_pred = y_pred.astype(int)\n",
    "y_pred"
   ]
  },
  {
   "cell_type": "code",
   "execution_count": 45,
   "id": "fd4f8cd9",
   "metadata": {},
   "outputs": [
    {
     "data": {
      "text/html": [
       "<style>#sk-container-id-1 {color: black;background-color: white;}#sk-container-id-1 pre{padding: 0;}#sk-container-id-1 div.sk-toggleable {background-color: white;}#sk-container-id-1 label.sk-toggleable__label {cursor: pointer;display: block;width: 100%;margin-bottom: 0;padding: 0.3em;box-sizing: border-box;text-align: center;}#sk-container-id-1 label.sk-toggleable__label-arrow:before {content: \"▸\";float: left;margin-right: 0.25em;color: #696969;}#sk-container-id-1 label.sk-toggleable__label-arrow:hover:before {color: black;}#sk-container-id-1 div.sk-estimator:hover label.sk-toggleable__label-arrow:before {color: black;}#sk-container-id-1 div.sk-toggleable__content {max-height: 0;max-width: 0;overflow: hidden;text-align: left;background-color: #f0f8ff;}#sk-container-id-1 div.sk-toggleable__content pre {margin: 0.2em;color: black;border-radius: 0.25em;background-color: #f0f8ff;}#sk-container-id-1 input.sk-toggleable__control:checked~div.sk-toggleable__content {max-height: 200px;max-width: 100%;overflow: auto;}#sk-container-id-1 input.sk-toggleable__control:checked~label.sk-toggleable__label-arrow:before {content: \"▾\";}#sk-container-id-1 div.sk-estimator input.sk-toggleable__control:checked~label.sk-toggleable__label {background-color: #d4ebff;}#sk-container-id-1 div.sk-label input.sk-toggleable__control:checked~label.sk-toggleable__label {background-color: #d4ebff;}#sk-container-id-1 input.sk-hidden--visually {border: 0;clip: rect(1px 1px 1px 1px);clip: rect(1px, 1px, 1px, 1px);height: 1px;margin: -1px;overflow: hidden;padding: 0;position: absolute;width: 1px;}#sk-container-id-1 div.sk-estimator {font-family: monospace;background-color: #f0f8ff;border: 1px dotted black;border-radius: 0.25em;box-sizing: border-box;margin-bottom: 0.5em;}#sk-container-id-1 div.sk-estimator:hover {background-color: #d4ebff;}#sk-container-id-1 div.sk-parallel-item::after {content: \"\";width: 100%;border-bottom: 1px solid gray;flex-grow: 1;}#sk-container-id-1 div.sk-label:hover label.sk-toggleable__label {background-color: #d4ebff;}#sk-container-id-1 div.sk-serial::before {content: \"\";position: absolute;border-left: 1px solid gray;box-sizing: border-box;top: 0;bottom: 0;left: 50%;z-index: 0;}#sk-container-id-1 div.sk-serial {display: flex;flex-direction: column;align-items: center;background-color: white;padding-right: 0.2em;padding-left: 0.2em;position: relative;}#sk-container-id-1 div.sk-item {position: relative;z-index: 1;}#sk-container-id-1 div.sk-parallel {display: flex;align-items: stretch;justify-content: center;background-color: white;position: relative;}#sk-container-id-1 div.sk-item::before, #sk-container-id-1 div.sk-parallel-item::before {content: \"\";position: absolute;border-left: 1px solid gray;box-sizing: border-box;top: 0;bottom: 0;left: 50%;z-index: -1;}#sk-container-id-1 div.sk-parallel-item {display: flex;flex-direction: column;z-index: 1;position: relative;background-color: white;}#sk-container-id-1 div.sk-parallel-item:first-child::after {align-self: flex-end;width: 50%;}#sk-container-id-1 div.sk-parallel-item:last-child::after {align-self: flex-start;width: 50%;}#sk-container-id-1 div.sk-parallel-item:only-child::after {width: 0;}#sk-container-id-1 div.sk-dashed-wrapped {border: 1px dashed gray;margin: 0 0.4em 0.5em 0.4em;box-sizing: border-box;padding-bottom: 0.4em;background-color: white;}#sk-container-id-1 div.sk-label label {font-family: monospace;font-weight: bold;display: inline-block;line-height: 1.2em;}#sk-container-id-1 div.sk-label-container {text-align: center;}#sk-container-id-1 div.sk-container {/* jupyter's `normalize.less` sets `[hidden] { display: none; }` but bootstrap.min.css set `[hidden] { display: none !important; }` so we also need the `!important` here to be able to override the default hidden behavior on the sphinx rendered scikit-learn.org. See: https://github.com/scikit-learn/scikit-learn/issues/21755 */display: inline-block !important;position: relative;}#sk-container-id-1 div.sk-text-repr-fallback {display: none;}</style><div id=\"sk-container-id-1\" class=\"sk-top-container\"><div class=\"sk-text-repr-fallback\"><pre>DecisionTreeClassifier()</pre><b>In a Jupyter environment, please rerun this cell to show the HTML representation or trust the notebook. <br />On GitHub, the HTML representation is unable to render, please try loading this page with nbviewer.org.</b></div><div class=\"sk-container\" hidden><div class=\"sk-item\"><div class=\"sk-estimator sk-toggleable\"><input class=\"sk-toggleable__control sk-hidden--visually\" id=\"sk-estimator-id-1\" type=\"checkbox\" checked><label for=\"sk-estimator-id-1\" class=\"sk-toggleable__label sk-toggleable__label-arrow\">DecisionTreeClassifier</label><div class=\"sk-toggleable__content\"><pre>DecisionTreeClassifier()</pre></div></div></div></div></div>"
      ],
      "text/plain": [
       "DecisionTreeClassifier()"
      ]
     },
     "execution_count": 45,
     "metadata": {},
     "output_type": "execute_result"
    }
   ],
   "source": [
    "dt = DecisionTreeClassifier()\n",
    "dt.fit(x_train,y_train)"
   ]
  },
  {
   "cell_type": "code",
   "execution_count": 46,
   "id": "fb1246b9",
   "metadata": {},
   "outputs": [
    {
     "name": "stdout",
     "output_type": "stream",
     "text": [
      "              precision    recall  f1-score   support\n",
      "\n",
      "           0       0.77      0.81      0.79       110\n",
      "           1       0.82      0.78      0.80       120\n",
      "\n",
      "    accuracy                           0.80       230\n",
      "   macro avg       0.80      0.80      0.80       230\n",
      "weighted avg       0.80      0.80      0.80       230\n",
      "\n"
     ]
    }
   ],
   "source": [
    "print(classification_report(y_test,dt.predict(x_test)))"
   ]
  },
  {
   "cell_type": "code",
   "execution_count": 47,
   "id": "c35b1186",
   "metadata": {},
   "outputs": [
    {
     "data": {
      "text/plain": [
       "array([[89, 21],\n",
       "       [26, 94]], dtype=int64)"
      ]
     },
     "execution_count": 47,
     "metadata": {},
     "output_type": "execute_result"
    }
   ],
   "source": [
    "confusion_matrix(y_test,dt.predict(x_test))"
   ]
  },
  {
   "cell_type": "markdown",
   "id": "1ca0b7e1",
   "metadata": {},
   "source": [
    "#### checking the accuracy"
   ]
  },
  {
   "cell_type": "code",
   "execution_count": 48,
   "id": "e5464fae",
   "metadata": {},
   "outputs": [
    {
     "name": "stdout",
     "output_type": "stream",
     "text": [
      "0.4782608695652174\n",
      "ANN Model\n",
      "confusion_matrix\n",
      "[[110   0]\n",
      " [120   0]]\n",
      "classification_report\n",
      "              precision    recall  f1-score   support\n",
      "\n",
      "           0       0.48      1.00      0.65       110\n",
      "           1       0.00      0.00      0.00       120\n",
      "\n",
      "    accuracy                           0.48       230\n",
      "   macro avg       0.24      0.50      0.32       230\n",
      "weighted avg       0.23      0.48      0.31       230\n",
      "\n"
     ]
    }
   ],
   "source": [
    "print(accuracy_score(y_pred,y_test))\n",
    "print(\"ANN Model\")\n",
    "print(\"confusion_matrix\")\n",
    "print(confusion_matrix(y_test, y_pred))\n",
    "print(\"classification_report\")\n",
    "print(classification_report(y_test, y_pred))"
   ]
  },
  {
   "cell_type": "code",
   "execution_count": 49,
   "id": "8a0e2449",
   "metadata": {},
   "outputs": [
    {
     "data": {
      "text/plain": [
       "array([1], dtype=int64)"
      ]
     },
     "execution_count": 49,
     "metadata": {},
     "output_type": "execute_result"
    }
   ],
   "source": [
    "dt.predict([[1,1, 0, 1, 1, 4276, 1542,145, 240, 0,1]])"
   ]
  },
  {
   "cell_type": "code",
   "execution_count": 50,
   "id": "a6e359e3",
   "metadata": {},
   "outputs": [
    {
     "data": {
      "text/html": [
       "<style>#sk-container-id-2 {color: black;background-color: white;}#sk-container-id-2 pre{padding: 0;}#sk-container-id-2 div.sk-toggleable {background-color: white;}#sk-container-id-2 label.sk-toggleable__label {cursor: pointer;display: block;width: 100%;margin-bottom: 0;padding: 0.3em;box-sizing: border-box;text-align: center;}#sk-container-id-2 label.sk-toggleable__label-arrow:before {content: \"▸\";float: left;margin-right: 0.25em;color: #696969;}#sk-container-id-2 label.sk-toggleable__label-arrow:hover:before {color: black;}#sk-container-id-2 div.sk-estimator:hover label.sk-toggleable__label-arrow:before {color: black;}#sk-container-id-2 div.sk-toggleable__content {max-height: 0;max-width: 0;overflow: hidden;text-align: left;background-color: #f0f8ff;}#sk-container-id-2 div.sk-toggleable__content pre {margin: 0.2em;color: black;border-radius: 0.25em;background-color: #f0f8ff;}#sk-container-id-2 input.sk-toggleable__control:checked~div.sk-toggleable__content {max-height: 200px;max-width: 100%;overflow: auto;}#sk-container-id-2 input.sk-toggleable__control:checked~label.sk-toggleable__label-arrow:before {content: \"▾\";}#sk-container-id-2 div.sk-estimator input.sk-toggleable__control:checked~label.sk-toggleable__label {background-color: #d4ebff;}#sk-container-id-2 div.sk-label input.sk-toggleable__control:checked~label.sk-toggleable__label {background-color: #d4ebff;}#sk-container-id-2 input.sk-hidden--visually {border: 0;clip: rect(1px 1px 1px 1px);clip: rect(1px, 1px, 1px, 1px);height: 1px;margin: -1px;overflow: hidden;padding: 0;position: absolute;width: 1px;}#sk-container-id-2 div.sk-estimator {font-family: monospace;background-color: #f0f8ff;border: 1px dotted black;border-radius: 0.25em;box-sizing: border-box;margin-bottom: 0.5em;}#sk-container-id-2 div.sk-estimator:hover {background-color: #d4ebff;}#sk-container-id-2 div.sk-parallel-item::after {content: \"\";width: 100%;border-bottom: 1px solid gray;flex-grow: 1;}#sk-container-id-2 div.sk-label:hover label.sk-toggleable__label {background-color: #d4ebff;}#sk-container-id-2 div.sk-serial::before {content: \"\";position: absolute;border-left: 1px solid gray;box-sizing: border-box;top: 0;bottom: 0;left: 50%;z-index: 0;}#sk-container-id-2 div.sk-serial {display: flex;flex-direction: column;align-items: center;background-color: white;padding-right: 0.2em;padding-left: 0.2em;position: relative;}#sk-container-id-2 div.sk-item {position: relative;z-index: 1;}#sk-container-id-2 div.sk-parallel {display: flex;align-items: stretch;justify-content: center;background-color: white;position: relative;}#sk-container-id-2 div.sk-item::before, #sk-container-id-2 div.sk-parallel-item::before {content: \"\";position: absolute;border-left: 1px solid gray;box-sizing: border-box;top: 0;bottom: 0;left: 50%;z-index: -1;}#sk-container-id-2 div.sk-parallel-item {display: flex;flex-direction: column;z-index: 1;position: relative;background-color: white;}#sk-container-id-2 div.sk-parallel-item:first-child::after {align-self: flex-end;width: 50%;}#sk-container-id-2 div.sk-parallel-item:last-child::after {align-self: flex-start;width: 50%;}#sk-container-id-2 div.sk-parallel-item:only-child::after {width: 0;}#sk-container-id-2 div.sk-dashed-wrapped {border: 1px dashed gray;margin: 0 0.4em 0.5em 0.4em;box-sizing: border-box;padding-bottom: 0.4em;background-color: white;}#sk-container-id-2 div.sk-label label {font-family: monospace;font-weight: bold;display: inline-block;line-height: 1.2em;}#sk-container-id-2 div.sk-label-container {text-align: center;}#sk-container-id-2 div.sk-container {/* jupyter's `normalize.less` sets `[hidden] { display: none; }` but bootstrap.min.css set `[hidden] { display: none !important; }` so we also need the `!important` here to be able to override the default hidden behavior on the sphinx rendered scikit-learn.org. See: https://github.com/scikit-learn/scikit-learn/issues/21755 */display: inline-block !important;position: relative;}#sk-container-id-2 div.sk-text-repr-fallback {display: none;}</style><div id=\"sk-container-id-2\" class=\"sk-top-container\"><div class=\"sk-text-repr-fallback\"><pre>RandomForestClassifier()</pre><b>In a Jupyter environment, please rerun this cell to show the HTML representation or trust the notebook. <br />On GitHub, the HTML representation is unable to render, please try loading this page with nbviewer.org.</b></div><div class=\"sk-container\" hidden><div class=\"sk-item\"><div class=\"sk-estimator sk-toggleable\"><input class=\"sk-toggleable__control sk-hidden--visually\" id=\"sk-estimator-id-2\" type=\"checkbox\" checked><label for=\"sk-estimator-id-2\" class=\"sk-toggleable__label sk-toggleable__label-arrow\">RandomForestClassifier</label><div class=\"sk-toggleable__content\"><pre>RandomForestClassifier()</pre></div></div></div></div></div>"
      ],
      "text/plain": [
       "RandomForestClassifier()"
      ]
     },
     "execution_count": 50,
     "metadata": {},
     "output_type": "execute_result"
    }
   ],
   "source": [
    "rfr = RandomForestClassifier()\n",
    "rfr.fit(x_train,y_train)"
   ]
  },
  {
   "cell_type": "code",
   "execution_count": 51,
   "id": "6c25290b",
   "metadata": {},
   "outputs": [
    {
     "name": "stdout",
     "output_type": "stream",
     "text": [
      "              precision    recall  f1-score   support\n",
      "\n",
      "           0       0.77      0.81      0.79       110\n",
      "           1       0.82      0.78      0.80       120\n",
      "\n",
      "    accuracy                           0.80       230\n",
      "   macro avg       0.80      0.80      0.80       230\n",
      "weighted avg       0.80      0.80      0.80       230\n",
      "\n"
     ]
    }
   ],
   "source": [
    "print(classification_report(y_test,dt.predict(x_test)))"
   ]
  },
  {
   "cell_type": "code",
   "execution_count": 52,
   "id": "5ae61b21",
   "metadata": {},
   "outputs": [
    {
     "data": {
      "text/plain": [
       "array([0], dtype=int64)"
      ]
     },
     "execution_count": 52,
     "metadata": {},
     "output_type": "execute_result"
    }
   ],
   "source": [
    "rfr.predict([[1,1, 0, 1, 1, 4276, 1542,145, 240, 0,1]])"
   ]
  },
  {
   "cell_type": "code",
   "execution_count": 53,
   "id": "17aa9e64",
   "metadata": {},
   "outputs": [
    {
     "data": {
      "text/html": [
       "<style>#sk-container-id-3 {color: black;background-color: white;}#sk-container-id-3 pre{padding: 0;}#sk-container-id-3 div.sk-toggleable {background-color: white;}#sk-container-id-3 label.sk-toggleable__label {cursor: pointer;display: block;width: 100%;margin-bottom: 0;padding: 0.3em;box-sizing: border-box;text-align: center;}#sk-container-id-3 label.sk-toggleable__label-arrow:before {content: \"▸\";float: left;margin-right: 0.25em;color: #696969;}#sk-container-id-3 label.sk-toggleable__label-arrow:hover:before {color: black;}#sk-container-id-3 div.sk-estimator:hover label.sk-toggleable__label-arrow:before {color: black;}#sk-container-id-3 div.sk-toggleable__content {max-height: 0;max-width: 0;overflow: hidden;text-align: left;background-color: #f0f8ff;}#sk-container-id-3 div.sk-toggleable__content pre {margin: 0.2em;color: black;border-radius: 0.25em;background-color: #f0f8ff;}#sk-container-id-3 input.sk-toggleable__control:checked~div.sk-toggleable__content {max-height: 200px;max-width: 100%;overflow: auto;}#sk-container-id-3 input.sk-toggleable__control:checked~label.sk-toggleable__label-arrow:before {content: \"▾\";}#sk-container-id-3 div.sk-estimator input.sk-toggleable__control:checked~label.sk-toggleable__label {background-color: #d4ebff;}#sk-container-id-3 div.sk-label input.sk-toggleable__control:checked~label.sk-toggleable__label {background-color: #d4ebff;}#sk-container-id-3 input.sk-hidden--visually {border: 0;clip: rect(1px 1px 1px 1px);clip: rect(1px, 1px, 1px, 1px);height: 1px;margin: -1px;overflow: hidden;padding: 0;position: absolute;width: 1px;}#sk-container-id-3 div.sk-estimator {font-family: monospace;background-color: #f0f8ff;border: 1px dotted black;border-radius: 0.25em;box-sizing: border-box;margin-bottom: 0.5em;}#sk-container-id-3 div.sk-estimator:hover {background-color: #d4ebff;}#sk-container-id-3 div.sk-parallel-item::after {content: \"\";width: 100%;border-bottom: 1px solid gray;flex-grow: 1;}#sk-container-id-3 div.sk-label:hover label.sk-toggleable__label {background-color: #d4ebff;}#sk-container-id-3 div.sk-serial::before {content: \"\";position: absolute;border-left: 1px solid gray;box-sizing: border-box;top: 0;bottom: 0;left: 50%;z-index: 0;}#sk-container-id-3 div.sk-serial {display: flex;flex-direction: column;align-items: center;background-color: white;padding-right: 0.2em;padding-left: 0.2em;position: relative;}#sk-container-id-3 div.sk-item {position: relative;z-index: 1;}#sk-container-id-3 div.sk-parallel {display: flex;align-items: stretch;justify-content: center;background-color: white;position: relative;}#sk-container-id-3 div.sk-item::before, #sk-container-id-3 div.sk-parallel-item::before {content: \"\";position: absolute;border-left: 1px solid gray;box-sizing: border-box;top: 0;bottom: 0;left: 50%;z-index: -1;}#sk-container-id-3 div.sk-parallel-item {display: flex;flex-direction: column;z-index: 1;position: relative;background-color: white;}#sk-container-id-3 div.sk-parallel-item:first-child::after {align-self: flex-end;width: 50%;}#sk-container-id-3 div.sk-parallel-item:last-child::after {align-self: flex-start;width: 50%;}#sk-container-id-3 div.sk-parallel-item:only-child::after {width: 0;}#sk-container-id-3 div.sk-dashed-wrapped {border: 1px dashed gray;margin: 0 0.4em 0.5em 0.4em;box-sizing: border-box;padding-bottom: 0.4em;background-color: white;}#sk-container-id-3 div.sk-label label {font-family: monospace;font-weight: bold;display: inline-block;line-height: 1.2em;}#sk-container-id-3 div.sk-label-container {text-align: center;}#sk-container-id-3 div.sk-container {/* jupyter's `normalize.less` sets `[hidden] { display: none; }` but bootstrap.min.css set `[hidden] { display: none !important; }` so we also need the `!important` here to be able to override the default hidden behavior on the sphinx rendered scikit-learn.org. See: https://github.com/scikit-learn/scikit-learn/issues/21755 */display: inline-block !important;position: relative;}#sk-container-id-3 div.sk-text-repr-fallback {display: none;}</style><div id=\"sk-container-id-3\" class=\"sk-top-container\"><div class=\"sk-text-repr-fallback\"><pre>KNeighborsClassifier()</pre><b>In a Jupyter environment, please rerun this cell to show the HTML representation or trust the notebook. <br />On GitHub, the HTML representation is unable to render, please try loading this page with nbviewer.org.</b></div><div class=\"sk-container\" hidden><div class=\"sk-item\"><div class=\"sk-estimator sk-toggleable\"><input class=\"sk-toggleable__control sk-hidden--visually\" id=\"sk-estimator-id-3\" type=\"checkbox\" checked><label for=\"sk-estimator-id-3\" class=\"sk-toggleable__label sk-toggleable__label-arrow\">KNeighborsClassifier</label><div class=\"sk-toggleable__content\"><pre>KNeighborsClassifier()</pre></div></div></div></div></div>"
      ],
      "text/plain": [
       "KNeighborsClassifier()"
      ]
     },
     "execution_count": 53,
     "metadata": {},
     "output_type": "execute_result"
    }
   ],
   "source": [
    "knn = KNeighborsClassifier()\n",
    "knn.fit(x_train,y_train)"
   ]
  },
  {
   "cell_type": "code",
   "execution_count": 54,
   "id": "707e8a6c",
   "metadata": {},
   "outputs": [
    {
     "name": "stdout",
     "output_type": "stream",
     "text": [
      "              precision    recall  f1-score   support\n",
      "\n",
      "           0       0.77      0.81      0.79       110\n",
      "           1       0.82      0.78      0.80       120\n",
      "\n",
      "    accuracy                           0.80       230\n",
      "   macro avg       0.80      0.80      0.80       230\n",
      "weighted avg       0.80      0.80      0.80       230\n",
      "\n"
     ]
    }
   ],
   "source": [
    "print(classification_report(y_test,dt.predict(x_test)))"
   ]
  },
  {
   "cell_type": "code",
   "execution_count": 55,
   "id": "1106a398",
   "metadata": {},
   "outputs": [
    {
     "data": {
      "text/plain": [
       "array([1], dtype=int64)"
      ]
     },
     "execution_count": 55,
     "metadata": {},
     "output_type": "execute_result"
    }
   ],
   "source": [
    "knn.predict([[1,1,0,1,1,4276,1542,145,240,0,1]])"
   ]
  },
  {
   "cell_type": "code",
   "execution_count": 56,
   "id": "1b6de399",
   "metadata": {},
   "outputs": [
    {
     "data": {
      "text/html": [
       "<style>#sk-container-id-4 {color: black;background-color: white;}#sk-container-id-4 pre{padding: 0;}#sk-container-id-4 div.sk-toggleable {background-color: white;}#sk-container-id-4 label.sk-toggleable__label {cursor: pointer;display: block;width: 100%;margin-bottom: 0;padding: 0.3em;box-sizing: border-box;text-align: center;}#sk-container-id-4 label.sk-toggleable__label-arrow:before {content: \"▸\";float: left;margin-right: 0.25em;color: #696969;}#sk-container-id-4 label.sk-toggleable__label-arrow:hover:before {color: black;}#sk-container-id-4 div.sk-estimator:hover label.sk-toggleable__label-arrow:before {color: black;}#sk-container-id-4 div.sk-toggleable__content {max-height: 0;max-width: 0;overflow: hidden;text-align: left;background-color: #f0f8ff;}#sk-container-id-4 div.sk-toggleable__content pre {margin: 0.2em;color: black;border-radius: 0.25em;background-color: #f0f8ff;}#sk-container-id-4 input.sk-toggleable__control:checked~div.sk-toggleable__content {max-height: 200px;max-width: 100%;overflow: auto;}#sk-container-id-4 input.sk-toggleable__control:checked~label.sk-toggleable__label-arrow:before {content: \"▾\";}#sk-container-id-4 div.sk-estimator input.sk-toggleable__control:checked~label.sk-toggleable__label {background-color: #d4ebff;}#sk-container-id-4 div.sk-label input.sk-toggleable__control:checked~label.sk-toggleable__label {background-color: #d4ebff;}#sk-container-id-4 input.sk-hidden--visually {border: 0;clip: rect(1px 1px 1px 1px);clip: rect(1px, 1px, 1px, 1px);height: 1px;margin: -1px;overflow: hidden;padding: 0;position: absolute;width: 1px;}#sk-container-id-4 div.sk-estimator {font-family: monospace;background-color: #f0f8ff;border: 1px dotted black;border-radius: 0.25em;box-sizing: border-box;margin-bottom: 0.5em;}#sk-container-id-4 div.sk-estimator:hover {background-color: #d4ebff;}#sk-container-id-4 div.sk-parallel-item::after {content: \"\";width: 100%;border-bottom: 1px solid gray;flex-grow: 1;}#sk-container-id-4 div.sk-label:hover label.sk-toggleable__label {background-color: #d4ebff;}#sk-container-id-4 div.sk-serial::before {content: \"\";position: absolute;border-left: 1px solid gray;box-sizing: border-box;top: 0;bottom: 0;left: 50%;z-index: 0;}#sk-container-id-4 div.sk-serial {display: flex;flex-direction: column;align-items: center;background-color: white;padding-right: 0.2em;padding-left: 0.2em;position: relative;}#sk-container-id-4 div.sk-item {position: relative;z-index: 1;}#sk-container-id-4 div.sk-parallel {display: flex;align-items: stretch;justify-content: center;background-color: white;position: relative;}#sk-container-id-4 div.sk-item::before, #sk-container-id-4 div.sk-parallel-item::before {content: \"\";position: absolute;border-left: 1px solid gray;box-sizing: border-box;top: 0;bottom: 0;left: 50%;z-index: -1;}#sk-container-id-4 div.sk-parallel-item {display: flex;flex-direction: column;z-index: 1;position: relative;background-color: white;}#sk-container-id-4 div.sk-parallel-item:first-child::after {align-self: flex-end;width: 50%;}#sk-container-id-4 div.sk-parallel-item:last-child::after {align-self: flex-start;width: 50%;}#sk-container-id-4 div.sk-parallel-item:only-child::after {width: 0;}#sk-container-id-4 div.sk-dashed-wrapped {border: 1px dashed gray;margin: 0 0.4em 0.5em 0.4em;box-sizing: border-box;padding-bottom: 0.4em;background-color: white;}#sk-container-id-4 div.sk-label label {font-family: monospace;font-weight: bold;display: inline-block;line-height: 1.2em;}#sk-container-id-4 div.sk-label-container {text-align: center;}#sk-container-id-4 div.sk-container {/* jupyter's `normalize.less` sets `[hidden] { display: none; }` but bootstrap.min.css set `[hidden] { display: none !important; }` so we also need the `!important` here to be able to override the default hidden behavior on the sphinx rendered scikit-learn.org. See: https://github.com/scikit-learn/scikit-learn/issues/21755 */display: inline-block !important;position: relative;}#sk-container-id-4 div.sk-text-repr-fallback {display: none;}</style><div id=\"sk-container-id-4\" class=\"sk-top-container\"><div class=\"sk-text-repr-fallback\"><pre>GradientBoostingClassifier()</pre><b>In a Jupyter environment, please rerun this cell to show the HTML representation or trust the notebook. <br />On GitHub, the HTML representation is unable to render, please try loading this page with nbviewer.org.</b></div><div class=\"sk-container\" hidden><div class=\"sk-item\"><div class=\"sk-estimator sk-toggleable\"><input class=\"sk-toggleable__control sk-hidden--visually\" id=\"sk-estimator-id-4\" type=\"checkbox\" checked><label for=\"sk-estimator-id-4\" class=\"sk-toggleable__label sk-toggleable__label-arrow\">GradientBoostingClassifier</label><div class=\"sk-toggleable__content\"><pre>GradientBoostingClassifier()</pre></div></div></div></div></div>"
      ],
      "text/plain": [
       "GradientBoostingClassifier()"
      ]
     },
     "execution_count": 56,
     "metadata": {},
     "output_type": "execute_result"
    }
   ],
   "source": [
    "xgb = GradientBoostingClassifier()\n",
    "xgb.fit(x_train,y_train)"
   ]
  },
  {
   "cell_type": "code",
   "execution_count": 57,
   "id": "1cb979d8",
   "metadata": {},
   "outputs": [
    {
     "name": "stdout",
     "output_type": "stream",
     "text": [
      "              precision    recall  f1-score   support\n",
      "\n",
      "           0       0.77      0.81      0.79       110\n",
      "           1       0.82      0.78      0.80       120\n",
      "\n",
      "    accuracy                           0.80       230\n",
      "   macro avg       0.80      0.80      0.80       230\n",
      "weighted avg       0.80      0.80      0.80       230\n",
      "\n"
     ]
    }
   ],
   "source": [
    "print(classification_report(y_test,dt.predict(x_test)))"
   ]
  },
  {
   "cell_type": "code",
   "execution_count": 58,
   "id": "09c26fc2",
   "metadata": {},
   "outputs": [
    {
     "data": {
      "text/plain": [
       "array([0], dtype=int64)"
      ]
     },
     "execution_count": 58,
     "metadata": {},
     "output_type": "execute_result"
    }
   ],
   "source": [
    "xgb.predict([[1,1, 0, 1, 1, 4276, 1542,145, 240, 0,1]])"
   ]
  },
  {
   "cell_type": "code",
   "execution_count": 59,
   "id": "0506be84",
   "metadata": {},
   "outputs": [
    {
     "name": "stdout",
     "output_type": "stream",
     "text": [
      "8/8 [==============================] - 0s 2ms/step\n"
     ]
    }
   ],
   "source": [
    "classifier.save(\"loan.h5\")\n",
    "y_pred = classifier.predict(x_test)\n"
   ]
  },
  {
   "cell_type": "code",
   "execution_count": 60,
   "id": "d38e41f2",
   "metadata": {},
   "outputs": [
    {
     "data": {
      "text/plain": [
       "array([[6.57985866e-01],\n",
       "       [6.46967232e-01],\n",
       "       [9.98519182e-01],\n",
       "       [8.07339291e-07],\n",
       "       [3.94056708e-01],\n",
       "       [6.14007823e-02],\n",
       "       [3.44176650e-01],\n",
       "       [4.98121589e-01],\n",
       "       [5.06099354e-07],\n",
       "       [2.95984179e-01],\n",
       "       [9.66010749e-01],\n",
       "       [4.17322099e-01],\n",
       "       [5.81493229e-02],\n",
       "       [4.23612222e-02],\n",
       "       [9.94167626e-01],\n",
       "       [9.05420005e-01],\n",
       "       [9.78730857e-01],\n",
       "       [1.11984391e-05],\n",
       "       [8.27317243e-04],\n",
       "       [2.69443663e-05],\n",
       "       [6.33708000e-01],\n",
       "       [5.30525088e-01],\n",
       "       [9.67998326e-01],\n",
       "       [9.41083014e-01],\n",
       "       [7.30698157e-05],\n",
       "       [1.92857951e-01],\n",
       "       [9.11767304e-01],\n",
       "       [3.87267534e-07],\n",
       "       [6.45809829e-01],\n",
       "       [8.78498375e-01],\n",
       "       [9.24025893e-01],\n",
       "       [1.15657446e-03],\n",
       "       [4.07566071e-01],\n",
       "       [3.69667590e-01],\n",
       "       [8.02358426e-03],\n",
       "       [6.80389881e-01],\n",
       "       [1.60987757e-03],\n",
       "       [3.28999772e-06],\n",
       "       [9.55391884e-01],\n",
       "       [3.87716651e-01],\n",
       "       [1.31347479e-05],\n",
       "       [2.06822321e-01],\n",
       "       [9.96299386e-01],\n",
       "       [6.20687425e-01],\n",
       "       [8.00300541e-07],\n",
       "       [2.30703939e-04],\n",
       "       [4.67444286e-02],\n",
       "       [2.28238747e-07],\n",
       "       [9.89524305e-01],\n",
       "       [9.69717264e-01],\n",
       "       [8.27172637e-01],\n",
       "       [5.88496029e-02],\n",
       "       [9.98923779e-01],\n",
       "       [5.73943675e-01],\n",
       "       [4.80162978e-01],\n",
       "       [8.12771499e-01],\n",
       "       [6.25194571e-06],\n",
       "       [3.40005704e-06],\n",
       "       [1.34431984e-05],\n",
       "       [2.20467427e-07],\n",
       "       [4.34664190e-01],\n",
       "       [9.89430249e-01],\n",
       "       [4.56980281e-02],\n",
       "       [3.49934250e-01],\n",
       "       [6.11427822e-07],\n",
       "       [2.11930163e-02],\n",
       "       [2.74206460e-01],\n",
       "       [7.19951510e-01],\n",
       "       [9.97013152e-01],\n",
       "       [8.64676595e-01],\n",
       "       [7.73820579e-01],\n",
       "       [9.53307629e-01],\n",
       "       [6.30285963e-02],\n",
       "       [7.15687349e-02],\n",
       "       [1.95382116e-03],\n",
       "       [1.04599493e-03],\n",
       "       [4.31444012e-02],\n",
       "       [1.51654138e-04],\n",
       "       [7.87122667e-01],\n",
       "       [1.82445165e-05],\n",
       "       [8.69196296e-01],\n",
       "       [2.15711945e-04],\n",
       "       [7.72575788e-07],\n",
       "       [1.63404479e-06],\n",
       "       [7.06500709e-01],\n",
       "       [9.93388474e-01],\n",
       "       [5.99607885e-01],\n",
       "       [4.32773784e-04],\n",
       "       [7.88612306e-01],\n",
       "       [5.47471762e-01],\n",
       "       [3.24351131e-04],\n",
       "       [5.65441549e-01],\n",
       "       [9.34469402e-01],\n",
       "       [9.35860153e-05],\n",
       "       [6.19845629e-01],\n",
       "       [4.89570439e-01],\n",
       "       [9.00894284e-01],\n",
       "       [1.88210270e-05],\n",
       "       [8.28570724e-01],\n",
       "       [4.53764596e-06],\n",
       "       [6.20540135e-08],\n",
       "       [8.77746701e-01],\n",
       "       [8.66262376e-01],\n",
       "       [7.52062425e-02],\n",
       "       [9.86326277e-01],\n",
       "       [9.98763502e-01],\n",
       "       [6.19011343e-01],\n",
       "       [8.97940814e-01],\n",
       "       [6.22894347e-01],\n",
       "       [7.27584481e-01],\n",
       "       [6.24638119e-08],\n",
       "       [9.52435136e-01],\n",
       "       [8.82112026e-01],\n",
       "       [7.29289353e-01],\n",
       "       [4.32089949e-03],\n",
       "       [5.58024086e-02],\n",
       "       [5.95832646e-01],\n",
       "       [9.38670337e-01],\n",
       "       [1.37483485e-05],\n",
       "       [8.93394232e-01],\n",
       "       [8.64996612e-01],\n",
       "       [3.21649462e-01],\n",
       "       [8.50767940e-02],\n",
       "       [4.37635254e-06],\n",
       "       [6.71423435e-01],\n",
       "       [6.10071301e-01],\n",
       "       [5.46844959e-01],\n",
       "       [7.11054146e-01],\n",
       "       [2.19403103e-01],\n",
       "       [8.99699688e-01],\n",
       "       [1.82236567e-01],\n",
       "       [1.16198851e-06],\n",
       "       [9.93893206e-01],\n",
       "       [2.06347158e-05],\n",
       "       [1.10308880e-04],\n",
       "       [8.14997435e-01],\n",
       "       [3.61471951e-01],\n",
       "       [1.33285226e-04],\n",
       "       [2.27712661e-01],\n",
       "       [6.98621988e-01],\n",
       "       [6.43842280e-01],\n",
       "       [1.98711379e-04],\n",
       "       [6.39399588e-01],\n",
       "       [1.12255837e-03],\n",
       "       [4.39019233e-01],\n",
       "       [1.43732890e-04],\n",
       "       [7.21679449e-01],\n",
       "       [6.78505480e-01],\n",
       "       [5.48153043e-01],\n",
       "       [9.08541799e-01],\n",
       "       [2.93639780e-04],\n",
       "       [3.50571781e-01],\n",
       "       [1.72216169e-05],\n",
       "       [9.98369753e-01],\n",
       "       [6.64662004e-01],\n",
       "       [9.46140826e-01],\n",
       "       [9.18660104e-01],\n",
       "       [6.17133319e-01],\n",
       "       [5.87683916e-02],\n",
       "       [6.81675375e-01],\n",
       "       [5.68519354e-05],\n",
       "       [7.91565001e-01],\n",
       "       [8.57195318e-01],\n",
       "       [2.28253141e-01],\n",
       "       [7.75060654e-01],\n",
       "       [8.43920290e-01],\n",
       "       [9.98050213e-01],\n",
       "       [1.14259619e-05],\n",
       "       [6.49135411e-01],\n",
       "       [9.57402050e-01],\n",
       "       [1.40129865e-04],\n",
       "       [6.74148276e-02],\n",
       "       [8.17227602e-01],\n",
       "       [3.62509519e-01],\n",
       "       [3.23706865e-01],\n",
       "       [5.75711370e-01],\n",
       "       [4.86294766e-06],\n",
       "       [1.49915286e-04],\n",
       "       [5.24407142e-06],\n",
       "       [9.97599959e-01],\n",
       "       [5.42154203e-06],\n",
       "       [2.05636069e-01],\n",
       "       [9.81499910e-01],\n",
       "       [9.24434125e-01],\n",
       "       [9.25830424e-01],\n",
       "       [8.88634562e-01],\n",
       "       [5.27099133e-01],\n",
       "       [6.06903553e-01],\n",
       "       [1.57455221e-01],\n",
       "       [1.95583889e-05],\n",
       "       [3.16453040e-01],\n",
       "       [4.34386032e-03],\n",
       "       [9.97564733e-01],\n",
       "       [2.61364013e-01],\n",
       "       [1.62442327e-02],\n",
       "       [8.63470018e-01],\n",
       "       [7.86547422e-01],\n",
       "       [2.99489230e-01],\n",
       "       [9.21996474e-01],\n",
       "       [7.04657912e-01],\n",
       "       [8.73470902e-01],\n",
       "       [8.86018217e-01],\n",
       "       [6.67641473e-07],\n",
       "       [8.94804716e-01],\n",
       "       [6.91549659e-01],\n",
       "       [3.54614079e-01],\n",
       "       [5.32961858e-04],\n",
       "       [9.57275212e-01],\n",
       "       [8.61819088e-01],\n",
       "       [3.19322437e-01],\n",
       "       [1.67307110e-06],\n",
       "       [8.17494452e-01],\n",
       "       [8.02109718e-01],\n",
       "       [3.34649175e-01],\n",
       "       [7.90799916e-01],\n",
       "       [4.03999184e-06],\n",
       "       [5.48730016e-01],\n",
       "       [3.32784772e-01],\n",
       "       [1.96315050e-01],\n",
       "       [9.99930024e-01],\n",
       "       [8.78415644e-01],\n",
       "       [8.96235585e-01],\n",
       "       [4.38631832e-04],\n",
       "       [6.78923097e-05],\n",
       "       [9.93563712e-01],\n",
       "       [1.99635451e-05],\n",
       "       [4.54351455e-01],\n",
       "       [9.63718653e-01],\n",
       "       [7.65484154e-01],\n",
       "       [8.06814015e-01]], dtype=float32)"
      ]
     },
     "execution_count": 60,
     "metadata": {},
     "output_type": "execute_result"
    }
   ],
   "source": [
    "y_pred"
   ]
  },
  {
   "cell_type": "code",
   "execution_count": 61,
   "id": "f6c8c21e",
   "metadata": {},
   "outputs": [
    {
     "data": {
      "text/plain": [
       "array([[ True],\n",
       "       [ True],\n",
       "       [ True],\n",
       "       [False],\n",
       "       [False],\n",
       "       [False],\n",
       "       [False],\n",
       "       [False],\n",
       "       [False],\n",
       "       [False],\n",
       "       [ True],\n",
       "       [False],\n",
       "       [False],\n",
       "       [False],\n",
       "       [ True],\n",
       "       [ True],\n",
       "       [ True],\n",
       "       [False],\n",
       "       [False],\n",
       "       [False],\n",
       "       [ True],\n",
       "       [ True],\n",
       "       [ True],\n",
       "       [ True],\n",
       "       [False],\n",
       "       [False],\n",
       "       [ True],\n",
       "       [False],\n",
       "       [ True],\n",
       "       [ True],\n",
       "       [ True],\n",
       "       [False],\n",
       "       [False],\n",
       "       [False],\n",
       "       [False],\n",
       "       [ True],\n",
       "       [False],\n",
       "       [False],\n",
       "       [ True],\n",
       "       [False],\n",
       "       [False],\n",
       "       [False],\n",
       "       [ True],\n",
       "       [ True],\n",
       "       [False],\n",
       "       [False],\n",
       "       [False],\n",
       "       [False],\n",
       "       [ True],\n",
       "       [ True],\n",
       "       [ True],\n",
       "       [False],\n",
       "       [ True],\n",
       "       [ True],\n",
       "       [False],\n",
       "       [ True],\n",
       "       [False],\n",
       "       [False],\n",
       "       [False],\n",
       "       [False],\n",
       "       [False],\n",
       "       [ True],\n",
       "       [False],\n",
       "       [False],\n",
       "       [False],\n",
       "       [False],\n",
       "       [False],\n",
       "       [ True],\n",
       "       [ True],\n",
       "       [ True],\n",
       "       [ True],\n",
       "       [ True],\n",
       "       [False],\n",
       "       [False],\n",
       "       [False],\n",
       "       [False],\n",
       "       [False],\n",
       "       [False],\n",
       "       [ True],\n",
       "       [False],\n",
       "       [ True],\n",
       "       [False],\n",
       "       [False],\n",
       "       [False],\n",
       "       [ True],\n",
       "       [ True],\n",
       "       [ True],\n",
       "       [False],\n",
       "       [ True],\n",
       "       [ True],\n",
       "       [False],\n",
       "       [ True],\n",
       "       [ True],\n",
       "       [False],\n",
       "       [ True],\n",
       "       [False],\n",
       "       [ True],\n",
       "       [False],\n",
       "       [ True],\n",
       "       [False],\n",
       "       [False],\n",
       "       [ True],\n",
       "       [ True],\n",
       "       [False],\n",
       "       [ True],\n",
       "       [ True],\n",
       "       [ True],\n",
       "       [ True],\n",
       "       [ True],\n",
       "       [ True],\n",
       "       [False],\n",
       "       [ True],\n",
       "       [ True],\n",
       "       [ True],\n",
       "       [False],\n",
       "       [False],\n",
       "       [ True],\n",
       "       [ True],\n",
       "       [False],\n",
       "       [ True],\n",
       "       [ True],\n",
       "       [False],\n",
       "       [False],\n",
       "       [False],\n",
       "       [ True],\n",
       "       [ True],\n",
       "       [ True],\n",
       "       [ True],\n",
       "       [False],\n",
       "       [ True],\n",
       "       [False],\n",
       "       [False],\n",
       "       [ True],\n",
       "       [False],\n",
       "       [False],\n",
       "       [ True],\n",
       "       [False],\n",
       "       [False],\n",
       "       [False],\n",
       "       [ True],\n",
       "       [ True],\n",
       "       [False],\n",
       "       [ True],\n",
       "       [False],\n",
       "       [False],\n",
       "       [False],\n",
       "       [ True],\n",
       "       [ True],\n",
       "       [ True],\n",
       "       [ True],\n",
       "       [False],\n",
       "       [False],\n",
       "       [False],\n",
       "       [ True],\n",
       "       [ True],\n",
       "       [ True],\n",
       "       [ True],\n",
       "       [ True],\n",
       "       [False],\n",
       "       [ True],\n",
       "       [False],\n",
       "       [ True],\n",
       "       [ True],\n",
       "       [False],\n",
       "       [ True],\n",
       "       [ True],\n",
       "       [ True],\n",
       "       [False],\n",
       "       [ True],\n",
       "       [ True],\n",
       "       [False],\n",
       "       [False],\n",
       "       [ True],\n",
       "       [False],\n",
       "       [False],\n",
       "       [ True],\n",
       "       [False],\n",
       "       [False],\n",
       "       [False],\n",
       "       [ True],\n",
       "       [False],\n",
       "       [False],\n",
       "       [ True],\n",
       "       [ True],\n",
       "       [ True],\n",
       "       [ True],\n",
       "       [ True],\n",
       "       [ True],\n",
       "       [False],\n",
       "       [False],\n",
       "       [False],\n",
       "       [False],\n",
       "       [ True],\n",
       "       [False],\n",
       "       [False],\n",
       "       [ True],\n",
       "       [ True],\n",
       "       [False],\n",
       "       [ True],\n",
       "       [ True],\n",
       "       [ True],\n",
       "       [ True],\n",
       "       [False],\n",
       "       [ True],\n",
       "       [ True],\n",
       "       [False],\n",
       "       [False],\n",
       "       [ True],\n",
       "       [ True],\n",
       "       [False],\n",
       "       [False],\n",
       "       [ True],\n",
       "       [ True],\n",
       "       [False],\n",
       "       [ True],\n",
       "       [False],\n",
       "       [ True],\n",
       "       [False],\n",
       "       [False],\n",
       "       [ True],\n",
       "       [ True],\n",
       "       [ True],\n",
       "       [False],\n",
       "       [False],\n",
       "       [ True],\n",
       "       [False],\n",
       "       [False],\n",
       "       [ True],\n",
       "       [ True],\n",
       "       [ True]])"
      ]
     },
     "execution_count": 61,
     "metadata": {},
     "output_type": "execute_result"
    }
   ],
   "source": [
    "y_pred = (y_pred > 0.5)\n",
    "y_pred"
   ]
  },
  {
   "cell_type": "code",
   "execution_count": 62,
   "id": "45c56ec2",
   "metadata": {},
   "outputs": [],
   "source": [
    "def predict_exit(sample_value):\n",
    "  sample_value = np.array(sample_value)\n",
    "  sample_value = sample_value.reshape(1, -1)\n",
    "  sample_valu = sc.transform(sample_value)\n",
    "  return classifier.predict(sample_value)"
   ]
  },
  {
   "cell_type": "code",
   "execution_count": 63,
   "id": "28b7f0b7",
   "metadata": {},
   "outputs": [],
   "source": [
    "sample_value = [[0,0,0,1,1,4276,1542,145,240,0,1]]"
   ]
  },
  {
   "cell_type": "code",
   "execution_count": 64,
   "id": "9583c26c",
   "metadata": {},
   "outputs": [
    {
     "name": "stdout",
     "output_type": "stream",
     "text": [
      "1/1 [==============================] - 0s 64ms/step\n",
      "Prediction: Low Chance of Loan Approval!\n"
     ]
    }
   ],
   "source": [
    "if predict_exit(sample_value)>0.5:\n",
    "  print('Prediction: High Chance of Loan Approval!')\n",
    "else:\n",
    "  print('Prediction: Low Chance of Loan Approval!')\n"
   ]
  },
  {
   "cell_type": "code",
   "execution_count": 65,
   "id": "a817ee72",
   "metadata": {},
   "outputs": [],
   "source": [
    "sample_value = [[1,0, 1, 1, 1, 45, 14,45, 240, 1,1]]"
   ]
  },
  {
   "cell_type": "code",
   "execution_count": 66,
   "id": "0f786d4c",
   "metadata": {},
   "outputs": [
    {
     "name": "stdout",
     "output_type": "stream",
     "text": [
      "1/1 [==============================] - 0s 36ms/step\n",
      "Prediction: Low Chance of Loan Approval!\n"
     ]
    }
   ],
   "source": [
    "if predict_exit(sample_value)>0.5:\n",
    "  print('Prediction: High Chance of Loan Approval!')\n",
    "else:\n",
    "  print('Prediction: Low Chance of Loan Approval!')\n"
   ]
  }
 ],
 "metadata": {
  "kernelspec": {
   "display_name": "Python 3 (ipykernel)",
   "language": "python",
   "name": "python3"
  },
  "language_info": {
   "codemirror_mode": {
    "name": "ipython",
    "version": 3
   },
   "file_extension": ".py",
   "mimetype": "text/x-python",
   "name": "python",
   "nbconvert_exporter": "python",
   "pygments_lexer": "ipython3",
   "version": "3.9.7"
  }
 },
 "nbformat": 4,
 "nbformat_minor": 5
}
